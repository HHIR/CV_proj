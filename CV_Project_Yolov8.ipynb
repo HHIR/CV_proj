{
  "cells": [
    {
      "cell_type": "markdown",
      "metadata": {
        "id": "view-in-github",
        "colab_type": "text"
      },
      "source": [
        "<a href=\"https://colab.research.google.com/github/HHIR/CV_proj/blob/main/CV_Project_Yolov8.ipynb\" target=\"_parent\"><img src=\"https://colab.research.google.com/assets/colab-badge.svg\" alt=\"Open In Colab\"/></a>"
      ]
    },
    {
      "cell_type": "markdown",
      "metadata": {
        "id": "VQmdArW-p4jg"
      },
      "source": [
        "# Preparation and YOLOv8 Installation"
      ]
    },
    {
      "cell_type": "code",
      "execution_count": 10,
      "metadata": {
        "id": "hybQuX3np3TP",
        "colab": {
          "base_uri": "https://localhost:8080/"
        },
        "outputId": "0d565415-5fa2-4fe5-fa15-e0cb98645988"
      },
      "outputs": [
        {
          "output_type": "stream",
          "name": "stdout",
          "text": [
            "Mounted at /content/gdrive\n"
          ]
        }
      ],
      "source": [
        "# Mount Google Drive\n",
        "from google.colab import drive\n",
        "drive.mount('/content/gdrive')"
      ]
    },
    {
      "cell_type": "code",
      "execution_count": 11,
      "metadata": {
        "id": "jOlfhVUGp-Oq"
      },
      "outputs": [],
      "source": [
        "# Access Google drive & mounted.\n",
        "import os\n",
        "os.chdir(\"gdrive/MyDrive\")"
      ]
    },
    {
      "cell_type": "code",
      "source": [
        "!cd .."
      ],
      "metadata": {
        "id": "YapLVcaj5UwQ"
      },
      "execution_count": 12,
      "outputs": []
    },
    {
      "cell_type": "code",
      "execution_count": 13,
      "metadata": {
        "id": "KP_NYNiPqAJz"
      },
      "outputs": [],
      "source": [
        "# Create YOLOv8 root folder\n",
        "!mkdir YOLOv8_Optimization"
      ]
    },
    {
      "cell_type": "code",
      "execution_count": 14,
      "metadata": {
        "id": "EwAstpt-qDT8",
        "colab": {
          "base_uri": "https://localhost:8080/"
        },
        "outputId": "de2acaa6-6bbb-423e-d890-8140470c0efd"
      },
      "outputs": [
        {
          "output_type": "stream",
          "name": "stdout",
          "text": [
            "/content/gdrive/MyDrive/YOLOv8_Optimization\n"
          ]
        }
      ],
      "source": [
        "# Go to YOLOv8 root folder\n",
        "%cd YOLOv8_Optimization"
      ]
    },
    {
      "cell_type": "code",
      "execution_count": 15,
      "metadata": {
        "id": "DcHWS3mfqFnJ",
        "colab": {
          "base_uri": "https://localhost:8080/"
        },
        "outputId": "243b3c2d-760b-4391-a463-bd89a6d935fb"
      },
      "outputs": [
        {
          "output_type": "stream",
          "name": "stdout",
          "text": [
            "Ultralytics 8.3.18 🚀 Python-3.10.12 torch-2.4.1+cu121 CUDA:0 (NVIDIA A100-SXM4-40GB, 40514MiB)\n",
            "Setup complete ✅ (12 CPUs, 83.5 GB RAM, 32.3/235.7 GB disk)\n"
          ]
        }
      ],
      "source": [
        "# Install YOLOv8\n",
        "%pip install ultralytics\n",
        "\n",
        "import ultralytics\n",
        "ultralytics.checks()"
      ]
    },
    {
      "cell_type": "markdown",
      "metadata": {
        "id": "CyZYHyZZqIlY"
      },
      "source": [
        "# YOLOv8 Architecture"
      ]
    },
    {
      "cell_type": "code",
      "execution_count": 16,
      "metadata": {
        "id": "d3AuK-mnsJhP",
        "colab": {
          "base_uri": "https://localhost:8080/"
        },
        "outputId": "8784c8c5-54c2-469c-d017-00966a5a92f4"
      },
      "outputs": [
        {
          "output_type": "stream",
          "name": "stdout",
          "text": [
            "--2024-10-21 01:05:09--  https://raw.githubusercontent.com/ultralytics/ultralytics/main/ultralytics/cfg/models/v8/yolov8.yaml\n",
            "Resolving raw.githubusercontent.com (raw.githubusercontent.com)... 185.199.108.133, 185.199.111.133, 185.199.109.133, ...\n",
            "Connecting to raw.githubusercontent.com (raw.githubusercontent.com)|185.199.108.133|:443... connected.\n",
            "HTTP request sent, awaiting response... 200 OK\n",
            "Length: 1889 (1.8K) [text/plain]\n",
            "Saving to: ‘yolov8.yaml’\n",
            "\n",
            "yolov8.yaml         100%[===================>]   1.84K  --.-KB/s    in 0.001s  \n",
            "\n",
            "2024-10-21 01:05:09 (1.23 MB/s) - ‘yolov8.yaml’ saved [1889/1889]\n",
            "\n"
          ]
        }
      ],
      "source": [
        "# Download the orginal YOLOv8 Architecture File\n",
        "!wget https://raw.githubusercontent.com/ultralytics/ultralytics/main/ultralytics/cfg/models/v8/yolov8.yaml"
      ]
    },
    {
      "cell_type": "code",
      "execution_count": 17,
      "metadata": {
        "id": "ZlblfRfkD6kP"
      },
      "outputs": [],
      "source": [
        "# Create \"YOLOv8l\" Architecture.\n",
        "!cp yolov8.yaml yolov8l.yaml"
      ]
    },
    {
      "cell_type": "markdown",
      "metadata": {
        "id": "ZzfgRXZNwyS7"
      },
      "source": [
        "## Modified YOLOv8 Architecture for our dataset"
      ]
    },
    {
      "cell_type": "code",
      "source": [
        "# Download the YOLOv8l modified Architecture\n",
        "!gdown https://drive.google.com/uc?id=1-GNXvdYi8aeVuJEkjY533xpZVZEH7Qjq\n"
      ],
      "metadata": {
        "colab": {
          "base_uri": "https://localhost:8080/"
        },
        "id": "XjF6UiyCOiuE",
        "outputId": "6ebdc14a-1982-4365-bc7c-1a43601a51a9"
      },
      "execution_count": 18,
      "outputs": [
        {
          "output_type": "stream",
          "name": "stdout",
          "text": [
            "Downloading...\n",
            "From: https://drive.google.com/uc?id=1-GNXvdYi8aeVuJEkjY533xpZVZEH7Qjq\n",
            "To: /content/gdrive/MyDrive/YOLOv8_Optimization/Modify_YOLOv8.yaml\n",
            "\r  0% 0.00/1.89k [00:00<?, ?B/s]\r100% 1.89k/1.89k [00:00<00:00, 9.85MB/s]\n"
          ]
        }
      ]
    },
    {
      "cell_type": "markdown",
      "metadata": {
        "id": "ofNh1Jpe0q-b"
      },
      "source": [
        "### Download the dataset"
      ]
    },
    {
      "cell_type": "code",
      "source": [
        "# Create data root folder\n",
        "!mkdir data\n",
        "%cd data"
      ],
      "metadata": {
        "id": "fYkCxq_0V_mC",
        "colab": {
          "base_uri": "https://localhost:8080/"
        },
        "outputId": "33b6b567-826f-43dd-e7d0-964b86ea335e"
      },
      "execution_count": 19,
      "outputs": [
        {
          "output_type": "stream",
          "name": "stdout",
          "text": [
            "/content/gdrive/MyDrive/YOLOv8_Optimization/data\n"
          ]
        }
      ]
    },
    {
      "cell_type": "code",
      "execution_count": 20,
      "metadata": {
        "id": "bsFyyiQUw0Z9",
        "colab": {
          "base_uri": "https://localhost:8080/"
        },
        "outputId": "0e28c67a-9ed8-47ac-84df-08d8fdc4b712"
      },
      "outputs": [
        {
          "output_type": "stream",
          "name": "stdout",
          "text": [
            "Downloading...\n",
            "From: https://drive.google.com/uc?id=127N48hqFMhfllwfP5zBuNsiU9rSttdH2\n",
            "To: /content/gdrive/MyDrive/YOLOv8_Optimization/data/CLEVR-Hans_dataset.zip\n",
            "\r  0% 0.00/2.03M [00:00<?, ?B/s]\r100% 2.03M/2.03M [00:00<00:00, 125MB/s]\n"
          ]
        }
      ],
      "source": [
        "# Download the dataset\n",
        "!gdown https://drive.google.com/uc?id=127N48hqFMhfllwfP5zBuNsiU9rSttdH2"
      ]
    },
    {
      "cell_type": "code",
      "execution_count": null,
      "metadata": {
        "id": "SykjMcN7b_vc"
      },
      "outputs": [],
      "source": [
        "# Unzip Dataset\n",
        "!unzip CLEVR-Hans_dataset.zip"
      ]
    },
    {
      "cell_type": "markdown",
      "metadata": {
        "id": "rjjkbgjY007T"
      },
      "source": [
        "### Download the data file link ro dorost konam\n"
      ]
    },
    {
      "cell_type": "code",
      "execution_count": 22,
      "metadata": {
        "id": "wvrOkg6Sb_yI",
        "colab": {
          "base_uri": "https://localhost:8080/"
        },
        "outputId": "c499f464-6dbb-440d-d2d8-204d98a94e8c"
      },
      "outputs": [
        {
          "output_type": "stream",
          "name": "stdout",
          "text": [
            "Downloading...\n",
            "From: https://drive.google.com/uc?id=1-HCTLQuNuINRQ7ZkQNYAhJta7HNp1YY2\n",
            "To: /content/gdrive/MyDrive/YOLOv8_Optimization/data/CLEVR.yaml\n",
            "\r  0% 0.00/283 [00:00<?, ?B/s]\r100% 283/283 [00:00<00:00, 1.52MB/s]\n"
          ]
        }
      ],
      "source": [
        "# Download the Yaml file for our dataset\n",
        "!gdown https://drive.google.com/uc?id=1-HCTLQuNuINRQ7ZkQNYAhJta7HNp1YY2"
      ]
    },
    {
      "cell_type": "code",
      "execution_count": 23,
      "metadata": {
        "id": "gixdfILIb_1M",
        "colab": {
          "base_uri": "https://localhost:8080/"
        },
        "outputId": "7200e399-c77a-4261-bf5b-ce6aaa904e89"
      },
      "outputs": [
        {
          "output_type": "stream",
          "name": "stdout",
          "text": [
            "/content/gdrive/MyDrive/YOLOv8_Optimization\n"
          ]
        }
      ],
      "source": [
        "# Go to the root folder\n",
        "%cd ../"
      ]
    },
    {
      "cell_type": "code",
      "source": [
        "!ls"
      ],
      "metadata": {
        "id": "tC-ctrzclZYH",
        "colab": {
          "base_uri": "https://localhost:8080/"
        },
        "outputId": "3e9e4fa7-ae7b-4328-8028-9753a917b8c1"
      },
      "execution_count": 24,
      "outputs": [
        {
          "output_type": "stream",
          "name": "stdout",
          "text": [
            "data  Modify_YOLOv8.yaml  yolov8l.yaml\tyolov8.yaml\n"
          ]
        }
      ]
    },
    {
      "cell_type": "markdown",
      "metadata": {
        "id": "SM90OCFz1Gpt"
      },
      "source": [
        "### Training"
      ]
    },
    {
      "cell_type": "code",
      "execution_count": 25,
      "metadata": {
        "id": "6B7nAnYgb_3Y",
        "colab": {
          "base_uri": "https://localhost:8080/"
        },
        "outputId": "5d5e35c6-77e8-4464-f971-bb1dc6ac1d08"
      },
      "outputs": [
        {
          "output_type": "stream",
          "name": "stdout",
          "text": [
            "Ultralytics 8.3.18 🚀 Python-3.10.12 torch-2.4.1+cu121 CUDA:0 (NVIDIA A100-SXM4-40GB, 40514MiB)\n",
            "\u001b[34m\u001b[1mengine/trainer: \u001b[0mtask=detect, mode=train, model=yolov8l.yaml, data=data/CLEVR.yaml, epochs=100, time=None, patience=50, batch=12, imgsz=640, save=True, save_period=-1, cache=False, device=0, workers=2, project=None, name=Orginal_Model_Output, exist_ok=False, pretrained=True, optimizer=auto, verbose=True, seed=0, deterministic=True, single_cls=False, rect=False, cos_lr=False, close_mosaic=10, resume=False, amp=True, fraction=1.0, profile=False, freeze=None, multi_scale=False, overlap_mask=True, mask_ratio=4, dropout=0.0, val=True, split=val, save_json=False, save_hybrid=False, conf=None, iou=0.7, max_det=300, half=False, dnn=False, plots=True, source=None, vid_stride=1, stream_buffer=False, visualize=False, augment=False, agnostic_nms=False, classes=None, retina_masks=False, embed=None, show=False, save_frames=False, save_txt=False, save_conf=False, save_crop=False, show_labels=True, show_conf=True, show_boxes=True, line_width=None, format=torchscript, keras=False, optimize=False, int8=False, dynamic=False, simplify=True, opset=None, workspace=4, nms=False, lr0=0.01, lrf=0.01, momentum=0.937, weight_decay=0.0005, warmup_epochs=3.0, warmup_momentum=0.8, warmup_bias_lr=0.1, box=7.5, cls=0.5, dfl=1.5, pose=12.0, kobj=1.0, label_smoothing=0.0, nbs=64, hsv_h=0.015, hsv_s=0.7, hsv_v=0.4, degrees=0.0, translate=0.1, scale=0.5, shear=0.0, perspective=0.0, flipud=0.0, fliplr=0.5, bgr=0.0, mosaic=1.0, mixup=0.0, copy_paste=0.0, copy_paste_mode=flip, auto_augment=randaugment, erasing=0.4, crop_fraction=1.0, cfg=None, tracker=botsort.yaml, save_dir=runs/detect/Orginal_Model_Output\n",
            "Downloading https://ultralytics.com/assets/Arial.ttf to '/root/.config/Ultralytics/Arial.ttf'...\n",
            "100% 755k/755k [00:00<00:00, 104MB/s]\n",
            "Overriding model.yaml nc=80 with nc=3\n",
            "\n",
            "                   from  n    params  module                                       arguments                     \n",
            "  0                  -1  1      1856  ultralytics.nn.modules.conv.Conv             [3, 64, 3, 2]                 \n",
            "  1                  -1  1     73984  ultralytics.nn.modules.conv.Conv             [64, 128, 3, 2]               \n",
            "  2                  -1  3    279808  ultralytics.nn.modules.block.C2f             [128, 128, 3, True]           \n",
            "  3                  -1  1    295424  ultralytics.nn.modules.conv.Conv             [128, 256, 3, 2]              \n",
            "  4                  -1  6   2101248  ultralytics.nn.modules.block.C2f             [256, 256, 6, True]           \n",
            "  5                  -1  1   1180672  ultralytics.nn.modules.conv.Conv             [256, 512, 3, 2]              \n",
            "  6                  -1  6   8396800  ultralytics.nn.modules.block.C2f             [512, 512, 6, True]           \n",
            "  7                  -1  1   2360320  ultralytics.nn.modules.conv.Conv             [512, 512, 3, 2]              \n",
            "  8                  -1  3   4461568  ultralytics.nn.modules.block.C2f             [512, 512, 3, True]           \n",
            "  9                  -1  1    656896  ultralytics.nn.modules.block.SPPF            [512, 512, 5]                 \n",
            " 10                  -1  1         0  torch.nn.modules.upsampling.Upsample         [None, 2, 'nearest']          \n",
            " 11             [-1, 6]  1         0  ultralytics.nn.modules.conv.Concat           [1]                           \n",
            " 12                  -1  3   4723712  ultralytics.nn.modules.block.C2f             [1024, 512, 3]                \n",
            " 13                  -1  1         0  torch.nn.modules.upsampling.Upsample         [None, 2, 'nearest']          \n",
            " 14             [-1, 4]  1         0  ultralytics.nn.modules.conv.Concat           [1]                           \n",
            " 15                  -1  3   1247744  ultralytics.nn.modules.block.C2f             [768, 256, 3]                 \n",
            " 16                  -1  1    590336  ultralytics.nn.modules.conv.Conv             [256, 256, 3, 2]              \n",
            " 17            [-1, 12]  1         0  ultralytics.nn.modules.conv.Concat           [1]                           \n",
            " 18                  -1  3   4592640  ultralytics.nn.modules.block.C2f             [768, 512, 3]                 \n",
            " 19                  -1  1   2360320  ultralytics.nn.modules.conv.Conv             [512, 512, 3, 2]              \n",
            " 20             [-1, 9]  1         0  ultralytics.nn.modules.conv.Concat           [1]                           \n",
            " 21                  -1  3   4723712  ultralytics.nn.modules.block.C2f             [1024, 512, 3]                \n",
            " 22        [15, 18, 21]  1   5585113  ultralytics.nn.modules.head.Detect           [3, [256, 512, 512]]          \n",
            "YOLOv8l summary: 365 layers, 43,632,153 parameters, 43,632,137 gradients, 165.4 GFLOPs\n",
            "\n",
            "\u001b[34m\u001b[1mTensorBoard: \u001b[0mStart with 'tensorboard --logdir runs/detect/Orginal_Model_Output', view at http://localhost:6006/\n",
            "\u001b[34m\u001b[1mwandb\u001b[0m: Using wandb-core as the SDK backend. Please refer to https://wandb.me/wandb-core for more information.\n",
            "\u001b[34m\u001b[1mwandb\u001b[0m: (1) Create a W&B account\n",
            "\u001b[34m\u001b[1mwandb\u001b[0m: (2) Use an existing W&B account\n",
            "\u001b[34m\u001b[1mwandb\u001b[0m: (3) Don't visualize my results\n",
            "\u001b[34m\u001b[1mwandb\u001b[0m: Enter your choice: 1\n",
            "\u001b[34m\u001b[1mwandb\u001b[0m: You chose 'Create a W&B account'\n",
            "\u001b[34m\u001b[1mwandb\u001b[0m: Create an account here: https://wandb.ai/authorize?signup=true\n",
            "\u001b[34m\u001b[1mwandb\u001b[0m: Paste an API key from your profile and hit enter, or press ctrl+c to quit: \n",
            "\u001b[34m\u001b[1mwandb\u001b[0m: Appending key for api.wandb.ai to your netrc file: /root/.netrc\n",
            "\u001b[34m\u001b[1mwandb\u001b[0m: Tracking run with wandb version 0.18.3\n",
            "\u001b[34m\u001b[1mwandb\u001b[0m: Run data is saved locally in \u001b[35m\u001b[1m/content/gdrive/MyDrive/YOLOv8_Optimization/wandb/run-20241021_011029-dh8ga3hc\u001b[0m\n",
            "\u001b[34m\u001b[1mwandb\u001b[0m: Run \u001b[1m`wandb offline`\u001b[0m to turn off syncing.\n",
            "\u001b[34m\u001b[1mwandb\u001b[0m: Syncing run \u001b[33mOrginal_Model_Output\u001b[0m\n",
            "\u001b[34m\u001b[1mwandb\u001b[0m: ⭐️ View project at \u001b[34m\u001b[4mhttps://wandb.ai/eng-hossein-hashemi-sapienza-universit-di-roma/Ultralytics\u001b[0m\n",
            "\u001b[34m\u001b[1mwandb\u001b[0m: 🚀 View run at \u001b[34m\u001b[4mhttps://wandb.ai/eng-hossein-hashemi-sapienza-universit-di-roma/Ultralytics/runs/dh8ga3hc\u001b[0m\n",
            "Freezing layer 'model.22.dfl.conv.weight'\n",
            "\u001b[34m\u001b[1mAMP: \u001b[0mrunning Automatic Mixed Precision (AMP) checks with YOLO11n...\n",
            "Downloading https://github.com/ultralytics/assets/releases/download/v8.3.0/yolo11n.pt to 'yolo11n.pt'...\n",
            "100% 5.35M/5.35M [00:00<00:00, 230MB/s]\n",
            "\u001b[34m\u001b[1mAMP: \u001b[0mchecks passed ✅\n",
            "\u001b[34m\u001b[1mtrain: \u001b[0mScanning /content/gdrive/MyDrive/Sep25_yolov8-final0_1_komaki/data/CLEVR-Hans_dataset/labels/train.cache... 118 images, 0 backgrounds, 0 corrupt: 100% 118/118 [00:00<?, ?it/s]\n",
            "/usr/local/lib/python3.10/dist-packages/albumentations/__init__.py:13: UserWarning: A new version of Albumentations is available: 1.4.18 (you have 1.4.15). Upgrade using: pip install -U albumentations. To disable automatic update checks, set the environment variable NO_ALBUMENTATIONS_UPDATE to 1.\n",
            "  check_for_updates()\n",
            "\u001b[34m\u001b[1malbumentations: \u001b[0mBlur(p=0.01, blur_limit=(3, 7)), MedianBlur(p=0.01, blur_limit=(3, 7)), ToGray(p=0.01, num_output_channels=3, method='weighted_average'), CLAHE(p=0.01, clip_limit=(1, 4.0), tile_grid_size=(8, 8))\n",
            "\u001b[34m\u001b[1mval: \u001b[0mScanning /content/gdrive/MyDrive/Sep25_yolov8-final0_1_komaki/data/CLEVR-Hans_dataset/labels/val.cache... 37 images, 0 backgrounds, 0 corrupt: 100% 37/37 [00:00<?, ?it/s]\n",
            "Plotting labels to runs/detect/Orginal_Model_Output/labels.jpg... \n",
            "\u001b[34m\u001b[1moptimizer:\u001b[0m 'optimizer=auto' found, ignoring 'lr0=0.01' and 'momentum=0.937' and determining best 'optimizer', 'lr0' and 'momentum' automatically... \n",
            "\u001b[34m\u001b[1moptimizer:\u001b[0m AdamW(lr=0.001429, momentum=0.9) with parameter groups 97 weight(decay=0.0), 104 weight(decay=0.00046875), 103 bias(decay=0.0)\n",
            "\u001b[34m\u001b[1mTensorBoard: \u001b[0mmodel graph visualization added ✅\n",
            "Image sizes 640 train, 640 val\n",
            "Using 2 dataloader workers\n",
            "Logging results to \u001b[1mruns/detect/Orginal_Model_Output\u001b[0m\n",
            "Starting training for 100 epochs...\n",
            "\n",
            "      Epoch    GPU_mem   box_loss   cls_loss   dfl_loss  Instances       Size\n",
            "      1/100      8.16G      4.026       4.53      4.464         84        640: 100% 10/10 [00:03<00:00,  2.74it/s]\n",
            "                 Class     Images  Instances      Box(P          R      mAP50  mAP50-95): 100% 2/2 [00:12<00:00,  6.21s/it]\n",
            "                   all         37        242          0          0          0          0\n",
            "\n",
            "      Epoch    GPU_mem   box_loss   cls_loss   dfl_loss  Instances       Size\n",
            "      2/100      7.98G      3.615      3.817      4.084         74        640: 100% 10/10 [00:01<00:00,  6.54it/s]\n",
            "                 Class     Images  Instances      Box(P          R      mAP50  mAP50-95): 100% 2/2 [00:00<00:00,  6.63it/s]\n",
            "                   all         37        242          0          0          0          0\n",
            "\n",
            "      Epoch    GPU_mem   box_loss   cls_loss   dfl_loss  Instances       Size\n",
            "      3/100      7.98G      3.019      3.066      3.683        128        640: 100% 10/10 [00:02<00:00,  3.96it/s]\n",
            "                 Class     Images  Instances      Box(P          R      mAP50  mAP50-95): 100% 2/2 [00:00<00:00,  8.63it/s]\n",
            "                   all         37        242          0          0          0          0\n",
            "\n",
            "      Epoch    GPU_mem   box_loss   cls_loss   dfl_loss  Instances       Size\n",
            "      4/100         8G       2.56      2.741      3.374         91        640: 100% 10/10 [00:02<00:00,  4.20it/s]\n",
            "                 Class     Images  Instances      Box(P          R      mAP50  mAP50-95): 100% 2/2 [00:00<00:00,  8.41it/s]\n",
            "                   all         37        242          0          0          0          0\n",
            "\n",
            "      Epoch    GPU_mem   box_loss   cls_loss   dfl_loss  Instances       Size\n",
            "      5/100         8G       2.26      2.469      3.128        100        640: 100% 10/10 [00:02<00:00,  4.21it/s]\n",
            "                 Class     Images  Instances      Box(P          R      mAP50  mAP50-95): 100% 2/2 [00:00<00:00,  8.41it/s]\n",
            "                   all         37        242          0          0          0          0\n",
            "\n",
            "      Epoch    GPU_mem   box_loss   cls_loss   dfl_loss  Instances       Size\n",
            "      6/100      8.23G      2.158      2.337       2.94         94        640: 100% 10/10 [00:01<00:00,  5.50it/s]\n",
            "                 Class     Images  Instances      Box(P          R      mAP50  mAP50-95): 100% 2/2 [00:00<00:00,  7.75it/s]\n",
            "                   all         37        242          0          0          0          0\n",
            "\n",
            "      Epoch    GPU_mem   box_loss   cls_loss   dfl_loss  Instances       Size\n",
            "      7/100      8.09G      1.956      2.162      2.641         81        640: 100% 10/10 [00:01<00:00,  5.51it/s]\n",
            "                 Class     Images  Instances      Box(P          R      mAP50  mAP50-95): 100% 2/2 [00:00<00:00,  8.68it/s]\n",
            "                   all         37        242          0          0          0          0\n",
            "\n",
            "      Epoch    GPU_mem   box_loss   cls_loss   dfl_loss  Instances       Size\n",
            "      8/100      8.02G      1.825      2.144       2.49         56        640: 100% 10/10 [00:02<00:00,  4.68it/s]\n",
            "                 Class     Images  Instances      Box(P          R      mAP50  mAP50-95): 100% 2/2 [00:00<00:00,  7.65it/s]\n",
            "                   all         37        242          0          0          0          0\n",
            "\n",
            "      Epoch    GPU_mem   box_loss   cls_loss   dfl_loss  Instances       Size\n",
            "      9/100      8.19G      1.945      2.233       2.49         62        640: 100% 10/10 [00:02<00:00,  4.09it/s]\n",
            "                 Class     Images  Instances      Box(P          R      mAP50  mAP50-95): 100% 2/2 [00:00<00:00,  7.63it/s]\n",
            "                   all         37        242    0.00544     0.0882     0.0118    0.00544\n",
            "\n",
            "      Epoch    GPU_mem   box_loss   cls_loss   dfl_loss  Instances       Size\n",
            "     10/100      8.16G      1.794      1.965       2.23        115        640: 100% 10/10 [00:02<00:00,  4.86it/s]\n",
            "                 Class     Images  Instances      Box(P          R      mAP50  mAP50-95): 100% 2/2 [00:00<00:00,  7.70it/s]\n",
            "                   all         37        242     0.0125      0.216     0.0128    0.00598\n",
            "\n",
            "      Epoch    GPU_mem   box_loss   cls_loss   dfl_loss  Instances       Size\n",
            "     11/100      8.13G      1.665      1.909      2.113        105        640: 100% 10/10 [00:01<00:00,  5.99it/s]\n",
            "                 Class     Images  Instances      Box(P          R      mAP50  mAP50-95): 100% 2/2 [00:00<00:00,  8.07it/s]\n",
            "                   all         37        242      0.257      0.264      0.113     0.0549\n",
            "\n",
            "      Epoch    GPU_mem   box_loss   cls_loss   dfl_loss  Instances       Size\n",
            "     12/100      8.16G      1.723      2.003      2.177        100        640: 100% 10/10 [00:02<00:00,  4.17it/s]\n",
            "                 Class     Images  Instances      Box(P          R      mAP50  mAP50-95): 100% 2/2 [00:00<00:00,  7.05it/s]\n",
            "                   all         37        242      0.072      0.524     0.0767     0.0383\n",
            "\n",
            "      Epoch    GPU_mem   box_loss   cls_loss   dfl_loss  Instances       Size\n",
            "     13/100      8.16G      1.628      1.888      2.051         77        640: 100% 10/10 [00:01<00:00,  5.80it/s]\n",
            "                 Class     Images  Instances      Box(P          R      mAP50  mAP50-95): 100% 2/2 [00:00<00:00,  7.29it/s]\n",
            "                   all         37        242      0.163      0.347      0.115     0.0571\n",
            "\n",
            "      Epoch    GPU_mem   box_loss   cls_loss   dfl_loss  Instances       Size\n",
            "     14/100      8.18G      1.602      1.894      2.027         61        640: 100% 10/10 [00:02<00:00,  4.15it/s]\n",
            "                 Class     Images  Instances      Box(P          R      mAP50  mAP50-95): 100% 2/2 [00:00<00:00,  7.96it/s]\n",
            "                   all         37        242      0.285      0.247      0.191     0.0944\n",
            "\n",
            "      Epoch    GPU_mem   box_loss   cls_loss   dfl_loss  Instances       Size\n",
            "     15/100      8.14G      1.593      1.843      1.957        109        640: 100% 10/10 [00:01<00:00,  5.06it/s]\n",
            "                 Class     Images  Instances      Box(P          R      mAP50  mAP50-95): 100% 2/2 [00:00<00:00,  8.28it/s]\n",
            "                   all         37        242      0.307      0.175      0.151     0.0838\n",
            "\n",
            "      Epoch    GPU_mem   box_loss   cls_loss   dfl_loss  Instances       Size\n",
            "     16/100      8.19G      1.587      1.807      1.922         89        640: 100% 10/10 [00:01<00:00,  5.86it/s]\n",
            "                 Class     Images  Instances      Box(P          R      mAP50  mAP50-95): 100% 2/2 [00:00<00:00,  7.67it/s]\n",
            "                   all         37        242      0.336      0.462      0.351      0.229\n",
            "\n",
            "      Epoch    GPU_mem   box_loss   cls_loss   dfl_loss  Instances       Size\n",
            "     17/100      8.09G      1.494      1.723        1.8        104        640: 100% 10/10 [00:02<00:00,  4.84it/s]\n",
            "                 Class     Images  Instances      Box(P          R      mAP50  mAP50-95): 100% 2/2 [00:00<00:00,  7.75it/s]\n",
            "                   all         37        242      0.372      0.751      0.476       0.34\n",
            "\n",
            "      Epoch    GPU_mem   box_loss   cls_loss   dfl_loss  Instances       Size\n",
            "     18/100      8.13G      1.375      1.676      1.713         91        640: 100% 10/10 [00:02<00:00,  4.24it/s]\n",
            "                 Class     Images  Instances      Box(P          R      mAP50  mAP50-95): 100% 2/2 [00:00<00:00,  7.96it/s]\n",
            "                   all         37        242      0.393      0.629      0.457      0.301\n",
            "\n",
            "      Epoch    GPU_mem   box_loss   cls_loss   dfl_loss  Instances       Size\n",
            "     19/100      8.15G      1.421      1.677      1.744         64        640: 100% 10/10 [00:01<00:00,  6.08it/s]\n",
            "                 Class     Images  Instances      Box(P          R      mAP50  mAP50-95): 100% 2/2 [00:00<00:00,  7.61it/s]\n",
            "                   all         37        242      0.426      0.698      0.485      0.328\n",
            "\n",
            "      Epoch    GPU_mem   box_loss   cls_loss   dfl_loss  Instances       Size\n",
            "     20/100      8.17G      1.362      1.643      1.676         67        640: 100% 10/10 [00:01<00:00,  6.97it/s]\n",
            "                 Class     Images  Instances      Box(P          R      mAP50  mAP50-95): 100% 2/2 [00:00<00:00,  7.76it/s]\n",
            "                   all         37        242      0.473       0.67      0.535      0.375\n",
            "\n",
            "      Epoch    GPU_mem   box_loss   cls_loss   dfl_loss  Instances       Size\n",
            "     21/100      8.19G      1.265      1.597      1.623         63        640: 100% 10/10 [00:01<00:00,  5.92it/s]\n",
            "                 Class     Images  Instances      Box(P          R      mAP50  mAP50-95): 100% 2/2 [00:00<00:00,  8.34it/s]\n",
            "                   all         37        242      0.528       0.55       0.53      0.396\n",
            "\n",
            "      Epoch    GPU_mem   box_loss   cls_loss   dfl_loss  Instances       Size\n",
            "     22/100      8.16G      1.256       1.59      1.599         98        640: 100% 10/10 [00:02<00:00,  4.34it/s]\n",
            "                 Class     Images  Instances      Box(P          R      mAP50  mAP50-95): 100% 2/2 [00:00<00:00,  7.69it/s]\n",
            "                   all         37        242      0.361      0.678      0.477      0.347\n",
            "\n",
            "      Epoch    GPU_mem   box_loss   cls_loss   dfl_loss  Instances       Size\n",
            "     23/100      8.08G      1.223      1.535      1.559        113        640: 100% 10/10 [00:01<00:00,  6.14it/s]\n",
            "                 Class     Images  Instances      Box(P          R      mAP50  mAP50-95): 100% 2/2 [00:00<00:00,  7.96it/s]\n",
            "                   all         37        242      0.498      0.687      0.537      0.391\n",
            "\n",
            "      Epoch    GPU_mem   box_loss   cls_loss   dfl_loss  Instances       Size\n",
            "     24/100      8.09G       1.16      1.471      1.459         90        640: 100% 10/10 [00:01<00:00,  5.93it/s]\n",
            "                 Class     Images  Instances      Box(P          R      mAP50  mAP50-95): 100% 2/2 [00:00<00:00,  7.93it/s]\n",
            "                   all         37        242      0.524      0.629      0.552       0.42\n",
            "\n",
            "      Epoch    GPU_mem   box_loss   cls_loss   dfl_loss  Instances       Size\n",
            "     25/100      8.13G      1.182      1.498      1.515         72        640: 100% 10/10 [00:01<00:00,  5.72it/s]\n",
            "                 Class     Images  Instances      Box(P          R      mAP50  mAP50-95): 100% 2/2 [00:00<00:00,  8.04it/s]\n",
            "                   all         37        242      0.577       0.63      0.591      0.433\n",
            "\n",
            "      Epoch    GPU_mem   box_loss   cls_loss   dfl_loss  Instances       Size\n",
            "     26/100      8.12G      1.175      1.483      1.492         89        640: 100% 10/10 [00:02<00:00,  4.87it/s]\n",
            "                 Class     Images  Instances      Box(P          R      mAP50  mAP50-95): 100% 2/2 [00:00<00:00,  7.64it/s]\n",
            "                   all         37        242      0.504      0.727      0.601       0.47\n",
            "\n",
            "      Epoch    GPU_mem   box_loss   cls_loss   dfl_loss  Instances       Size\n",
            "     27/100      8.12G       1.09      1.429       1.45        119        640: 100% 10/10 [00:02<00:00,  4.37it/s]\n",
            "                 Class     Images  Instances      Box(P          R      mAP50  mAP50-95): 100% 2/2 [00:00<00:00,  7.60it/s]\n",
            "                   all         37        242      0.504       0.74      0.602      0.492\n",
            "\n",
            "      Epoch    GPU_mem   box_loss   cls_loss   dfl_loss  Instances       Size\n",
            "     28/100      8.14G      1.109      1.494      1.464         77        640: 100% 10/10 [00:02<00:00,  4.17it/s]\n",
            "                 Class     Images  Instances      Box(P          R      mAP50  mAP50-95): 100% 2/2 [00:00<00:00,  7.94it/s]\n",
            "                   all         37        242      0.473      0.699      0.544      0.435\n",
            "\n",
            "      Epoch    GPU_mem   box_loss   cls_loss   dfl_loss  Instances       Size\n",
            "     29/100      8.14G      1.032      1.346      1.376         86        640: 100% 10/10 [00:01<00:00,  6.01it/s]\n",
            "                 Class     Images  Instances      Box(P          R      mAP50  mAP50-95): 100% 2/2 [00:00<00:00,  8.07it/s]\n",
            "                   all         37        242      0.488      0.738      0.597      0.468\n",
            "\n",
            "      Epoch    GPU_mem   box_loss   cls_loss   dfl_loss  Instances       Size\n",
            "     30/100      8.14G      1.092      1.368      1.404         60        640: 100% 10/10 [00:01<00:00,  5.69it/s]\n",
            "                 Class     Images  Instances      Box(P          R      mAP50  mAP50-95): 100% 2/2 [00:00<00:00,  7.25it/s]\n",
            "                   all         37        242      0.493      0.801      0.655      0.532\n",
            "\n",
            "      Epoch    GPU_mem   box_loss   cls_loss   dfl_loss  Instances       Size\n",
            "     31/100      8.13G      1.088      1.388      1.438         86        640: 100% 10/10 [00:02<00:00,  4.77it/s]\n",
            "                 Class     Images  Instances      Box(P          R      mAP50  mAP50-95): 100% 2/2 [00:00<00:00,  7.61it/s]\n",
            "                   all         37        242      0.483       0.74      0.636       0.49\n",
            "\n",
            "      Epoch    GPU_mem   box_loss   cls_loss   dfl_loss  Instances       Size\n",
            "     32/100      8.06G      1.026      1.292      1.368        114        640: 100% 10/10 [00:01<00:00,  5.76it/s]\n",
            "                 Class     Images  Instances      Box(P          R      mAP50  mAP50-95): 100% 2/2 [00:00<00:00,  7.70it/s]\n",
            "                   all         37        242      0.551      0.779      0.667      0.531\n",
            "\n",
            "      Epoch    GPU_mem   box_loss   cls_loss   dfl_loss  Instances       Size\n",
            "     33/100      8.05G      1.079      1.331      1.365         91        640: 100% 10/10 [00:01<00:00,  6.11it/s]\n",
            "                 Class     Images  Instances      Box(P          R      mAP50  mAP50-95): 100% 2/2 [00:00<00:00,  7.32it/s]\n",
            "                   all         37        242        0.5      0.771       0.68       0.53\n",
            "\n",
            "      Epoch    GPU_mem   box_loss   cls_loss   dfl_loss  Instances       Size\n",
            "     34/100      8.06G      1.061      1.321      1.376         57        640: 100% 10/10 [00:01<00:00,  7.19it/s]\n",
            "                 Class     Images  Instances      Box(P          R      mAP50  mAP50-95): 100% 2/2 [00:00<00:00,  7.93it/s]\n",
            "                   all         37        242      0.585      0.808      0.676       0.55\n",
            "\n",
            "      Epoch    GPU_mem   box_loss   cls_loss   dfl_loss  Instances       Size\n",
            "     35/100      8.15G      1.023      1.301      1.382         75        640: 100% 10/10 [00:01<00:00,  6.83it/s]\n",
            "                 Class     Images  Instances      Box(P          R      mAP50  mAP50-95): 100% 2/2 [00:00<00:00,  7.40it/s]\n",
            "                   all         37        242      0.521      0.829      0.673      0.548\n",
            "\n",
            "      Epoch    GPU_mem   box_loss   cls_loss   dfl_loss  Instances       Size\n",
            "     36/100      8.12G     0.9943      1.303      1.358         89        640: 100% 10/10 [00:01<00:00,  6.48it/s]\n",
            "                 Class     Images  Instances      Box(P          R      mAP50  mAP50-95): 100% 2/2 [00:00<00:00,  7.79it/s]\n",
            "                   all         37        242      0.617      0.709      0.696       0.56\n",
            "\n",
            "      Epoch    GPU_mem   box_loss   cls_loss   dfl_loss  Instances       Size\n",
            "     37/100      8.15G     0.9552      1.204        1.3         68        640: 100% 10/10 [00:02<00:00,  4.61it/s]\n",
            "                 Class     Images  Instances      Box(P          R      mAP50  mAP50-95): 100% 2/2 [00:00<00:00,  8.08it/s]\n",
            "                   all         37        242      0.567      0.843      0.722      0.571\n",
            "\n",
            "      Epoch    GPU_mem   box_loss   cls_loss   dfl_loss  Instances       Size\n",
            "     38/100      8.16G     0.9904      1.243      1.321         73        640: 100% 10/10 [00:01<00:00,  5.42it/s]\n",
            "                 Class     Images  Instances      Box(P          R      mAP50  mAP50-95): 100% 2/2 [00:00<00:00,  8.35it/s]\n",
            "                   all         37        242       0.66      0.778      0.727      0.585\n",
            "\n",
            "      Epoch    GPU_mem   box_loss   cls_loss   dfl_loss  Instances       Size\n",
            "     39/100      8.08G     0.9795      1.241        1.3         63        640: 100% 10/10 [00:02<00:00,  4.28it/s]\n",
            "                 Class     Images  Instances      Box(P          R      mAP50  mAP50-95): 100% 2/2 [00:00<00:00,  7.27it/s]\n",
            "                   all         37        242       0.55      0.829      0.674      0.545\n",
            "\n",
            "      Epoch    GPU_mem   box_loss   cls_loss   dfl_loss  Instances       Size\n",
            "     40/100      8.14G     0.9896       1.22      1.314         58        640: 100% 10/10 [00:01<00:00,  5.90it/s]\n",
            "                 Class     Images  Instances      Box(P          R      mAP50  mAP50-95): 100% 2/2 [00:00<00:00,  5.89it/s]\n",
            "                   all         37        242      0.556      0.782      0.688      0.566\n",
            "\n",
            "      Epoch    GPU_mem   box_loss   cls_loss   dfl_loss  Instances       Size\n",
            "     41/100      8.16G     0.8888      1.176       1.24         80        640: 100% 10/10 [00:01<00:00,  5.61it/s]\n",
            "                 Class     Images  Instances      Box(P          R      mAP50  mAP50-95): 100% 2/2 [00:00<00:00,  7.53it/s]\n",
            "                   all         37        242      0.568      0.809      0.709      0.574\n",
            "\n",
            "      Epoch    GPU_mem   box_loss   cls_loss   dfl_loss  Instances       Size\n",
            "     42/100      8.16G     0.9096      1.152      1.256         93        640: 100% 10/10 [00:01<00:00,  5.97it/s]\n",
            "                 Class     Images  Instances      Box(P          R      mAP50  mAP50-95): 100% 2/2 [00:00<00:00,  8.17it/s]\n",
            "                   all         37        242      0.594      0.822      0.708      0.587\n",
            "\n",
            "      Epoch    GPU_mem   box_loss   cls_loss   dfl_loss  Instances       Size\n",
            "     43/100      8.16G     0.8913      1.108      1.223         98        640: 100% 10/10 [00:02<00:00,  4.37it/s]\n",
            "                 Class     Images  Instances      Box(P          R      mAP50  mAP50-95): 100% 2/2 [00:00<00:00,  8.29it/s]\n",
            "                   all         37        242      0.626      0.712      0.751      0.595\n",
            "\n",
            "      Epoch    GPU_mem   box_loss   cls_loss   dfl_loss  Instances       Size\n",
            "     44/100      8.08G     0.8979      1.124      1.229         81        640: 100% 10/10 [00:02<00:00,  4.17it/s]\n",
            "                 Class     Images  Instances      Box(P          R      mAP50  mAP50-95): 100% 2/2 [00:00<00:00,  7.84it/s]\n",
            "                   all         37        242       0.59      0.768      0.745      0.606\n",
            "\n",
            "      Epoch    GPU_mem   box_loss   cls_loss   dfl_loss  Instances       Size\n",
            "     45/100      8.17G     0.8955       1.11      1.248        112        640: 100% 10/10 [00:02<00:00,  4.16it/s]\n",
            "                 Class     Images  Instances      Box(P          R      mAP50  mAP50-95): 100% 2/2 [00:00<00:00,  7.43it/s]\n",
            "                   all         37        242      0.657      0.797      0.773      0.631\n",
            "\n",
            "      Epoch    GPU_mem   box_loss   cls_loss   dfl_loss  Instances       Size\n",
            "     46/100      8.08G     0.8912      1.077      1.247         68        640: 100% 10/10 [00:02<00:00,  4.28it/s]\n",
            "                 Class     Images  Instances      Box(P          R      mAP50  mAP50-95): 100% 2/2 [00:00<00:00,  8.31it/s]\n",
            "                   all         37        242      0.618      0.851      0.783      0.656\n",
            "\n",
            "      Epoch    GPU_mem   box_loss   cls_loss   dfl_loss  Instances       Size\n",
            "     47/100      8.14G     0.8914      1.042      1.231         84        640: 100% 10/10 [00:02<00:00,  4.16it/s]\n",
            "                 Class     Images  Instances      Box(P          R      mAP50  mAP50-95): 100% 2/2 [00:00<00:00,  8.15it/s]\n",
            "                   all         37        242      0.772      0.789      0.845      0.693\n",
            "\n",
            "      Epoch    GPU_mem   box_loss   cls_loss   dfl_loss  Instances       Size\n",
            "     48/100      8.14G     0.9499      1.036       1.26         79        640: 100% 10/10 [00:02<00:00,  4.35it/s]\n",
            "                 Class     Images  Instances      Box(P          R      mAP50  mAP50-95): 100% 2/2 [00:00<00:00,  8.14it/s]\n",
            "                   all         37        242      0.694      0.816      0.818      0.677\n",
            "\n",
            "      Epoch    GPU_mem   box_loss   cls_loss   dfl_loss  Instances       Size\n",
            "     49/100      8.13G     0.9045      1.025      1.283         80        640: 100% 10/10 [00:01<00:00,  7.42it/s]\n",
            "                 Class     Images  Instances      Box(P          R      mAP50  mAP50-95): 100% 2/2 [00:00<00:00,  8.15it/s]\n",
            "                   all         37        242      0.688      0.842      0.842      0.696\n",
            "\n",
            "      Epoch    GPU_mem   box_loss   cls_loss   dfl_loss  Instances       Size\n",
            "     50/100      8.18G     0.8683      0.982      1.235         68        640: 100% 10/10 [00:01<00:00,  5.64it/s]\n",
            "                 Class     Images  Instances      Box(P          R      mAP50  mAP50-95): 100% 2/2 [00:00<00:00,  7.11it/s]\n",
            "                   all         37        242       0.75      0.752      0.865      0.718\n",
            "\n",
            "      Epoch    GPU_mem   box_loss   cls_loss   dfl_loss  Instances       Size\n",
            "     51/100      8.17G     0.8472     0.9499      1.197         81        640: 100% 10/10 [00:02<00:00,  4.92it/s]\n",
            "                 Class     Images  Instances      Box(P          R      mAP50  mAP50-95): 100% 2/2 [00:00<00:00,  8.35it/s]\n",
            "                   all         37        242      0.727      0.811       0.85      0.713\n",
            "\n",
            "      Epoch    GPU_mem   box_loss   cls_loss   dfl_loss  Instances       Size\n",
            "     52/100      8.11G      0.857     0.9849      1.229         75        640: 100% 10/10 [00:01<00:00,  6.04it/s]\n",
            "                 Class     Images  Instances      Box(P          R      mAP50  mAP50-95): 100% 2/2 [00:00<00:00,  7.90it/s]\n",
            "                   all         37        242      0.763      0.754       0.83      0.702\n",
            "\n",
            "      Epoch    GPU_mem   box_loss   cls_loss   dfl_loss  Instances       Size\n",
            "     53/100      8.16G     0.8058     0.9182      1.183         67        640: 100% 10/10 [00:01<00:00,  5.78it/s]\n",
            "                 Class     Images  Instances      Box(P          R      mAP50  mAP50-95): 100% 2/2 [00:00<00:00,  7.96it/s]\n",
            "                   all         37        242      0.768      0.823      0.874      0.739\n",
            "\n",
            "      Epoch    GPU_mem   box_loss   cls_loss   dfl_loss  Instances       Size\n",
            "     54/100      8.14G     0.8047     0.9279      1.173         90        640: 100% 10/10 [00:02<00:00,  4.33it/s]\n",
            "                 Class     Images  Instances      Box(P          R      mAP50  mAP50-95): 100% 2/2 [00:00<00:00,  7.89it/s]\n",
            "                   all         37        242      0.841      0.788      0.894      0.752\n",
            "\n",
            "      Epoch    GPU_mem   box_loss   cls_loss   dfl_loss  Instances       Size\n",
            "     55/100      8.13G     0.8076     0.9118      1.174        131        640: 100% 10/10 [00:02<00:00,  4.31it/s]\n",
            "                 Class     Images  Instances      Box(P          R      mAP50  mAP50-95): 100% 2/2 [00:00<00:00,  7.90it/s]\n",
            "                   all         37        242      0.834      0.802      0.885      0.751\n",
            "\n",
            "      Epoch    GPU_mem   box_loss   cls_loss   dfl_loss  Instances       Size\n",
            "     56/100      8.17G     0.8262      0.882      1.175        122        640: 100% 10/10 [00:01<00:00,  6.12it/s]\n",
            "                 Class     Images  Instances      Box(P          R      mAP50  mAP50-95): 100% 2/2 [00:00<00:00,  7.49it/s]\n",
            "                   all         37        242      0.775      0.837      0.898      0.759\n",
            "\n",
            "      Epoch    GPU_mem   box_loss   cls_loss   dfl_loss  Instances       Size\n",
            "     57/100      8.16G     0.8215     0.8517      1.193         66        640: 100% 10/10 [00:02<00:00,  4.10it/s]\n",
            "                 Class     Images  Instances      Box(P          R      mAP50  mAP50-95): 100% 2/2 [00:00<00:00,  8.18it/s]\n",
            "                   all         37        242      0.836      0.829      0.903      0.757\n",
            "\n",
            "      Epoch    GPU_mem   box_loss   cls_loss   dfl_loss  Instances       Size\n",
            "     58/100      8.14G     0.8059     0.9011      1.188        112        640: 100% 10/10 [00:01<00:00,  6.14it/s]\n",
            "                 Class     Images  Instances      Box(P          R      mAP50  mAP50-95): 100% 2/2 [00:00<00:00,  7.54it/s]\n",
            "                   all         37        242      0.812      0.824      0.871      0.747\n",
            "\n",
            "      Epoch    GPU_mem   box_loss   cls_loss   dfl_loss  Instances       Size\n",
            "     59/100      8.13G     0.7732      0.851      1.131        130        640: 100% 10/10 [00:01<00:00,  5.66it/s]\n",
            "                 Class     Images  Instances      Box(P          R      mAP50  mAP50-95): 100% 2/2 [00:00<00:00,  8.05it/s]\n",
            "                   all         37        242      0.807       0.88      0.899      0.764\n",
            "\n",
            "      Epoch    GPU_mem   box_loss   cls_loss   dfl_loss  Instances       Size\n",
            "     60/100      8.07G     0.7908     0.8504      1.173         65        640: 100% 10/10 [00:01<00:00,  6.19it/s]\n",
            "                 Class     Images  Instances      Box(P          R      mAP50  mAP50-95): 100% 2/2 [00:00<00:00,  7.44it/s]\n",
            "                   all         37        242      0.876      0.889      0.922      0.782\n",
            "\n",
            "      Epoch    GPU_mem   box_loss   cls_loss   dfl_loss  Instances       Size\n",
            "     61/100      8.08G     0.8143     0.8335      1.159        105        640: 100% 10/10 [00:02<00:00,  4.22it/s]\n",
            "                 Class     Images  Instances      Box(P          R      mAP50  mAP50-95): 100% 2/2 [00:00<00:00,  7.90it/s]\n",
            "                   all         37        242      0.879      0.834      0.923      0.785\n",
            "\n",
            "      Epoch    GPU_mem   box_loss   cls_loss   dfl_loss  Instances       Size\n",
            "     62/100      8.15G     0.8088     0.8044      1.141         76        640: 100% 10/10 [00:02<00:00,  4.22it/s]\n",
            "                 Class     Images  Instances      Box(P          R      mAP50  mAP50-95): 100% 2/2 [00:00<00:00,  8.14it/s]\n",
            "                   all         37        242      0.821      0.817      0.902      0.762\n",
            "\n",
            "      Epoch    GPU_mem   box_loss   cls_loss   dfl_loss  Instances       Size\n",
            "     63/100      8.17G      0.787      0.826      1.182         56        640: 100% 10/10 [00:01<00:00,  7.18it/s]\n",
            "                 Class     Images  Instances      Box(P          R      mAP50  mAP50-95): 100% 2/2 [00:00<00:00,  8.00it/s]\n",
            "                   all         37        242      0.897       0.85      0.922      0.787\n",
            "\n",
            "      Epoch    GPU_mem   box_loss   cls_loss   dfl_loss  Instances       Size\n",
            "     64/100      8.08G     0.7569      0.778      1.122        101        640: 100% 10/10 [00:01<00:00,  7.12it/s]\n",
            "                 Class     Images  Instances      Box(P          R      mAP50  mAP50-95): 100% 2/2 [00:00<00:00,  8.02it/s]\n",
            "                   all         37        242      0.847       0.86      0.929      0.792\n",
            "\n",
            "      Epoch    GPU_mem   box_loss   cls_loss   dfl_loss  Instances       Size\n",
            "     65/100      8.16G     0.7496      0.803      1.132        105        640: 100% 10/10 [00:01<00:00,  5.86it/s]\n",
            "                 Class     Images  Instances      Box(P          R      mAP50  mAP50-95): 100% 2/2 [00:00<00:00,  8.11it/s]\n",
            "                   all         37        242      0.816      0.874      0.911      0.788\n",
            "\n",
            "      Epoch    GPU_mem   box_loss   cls_loss   dfl_loss  Instances       Size\n",
            "     66/100      8.08G     0.7744     0.8267      1.178         64        640: 100% 10/10 [00:01<00:00,  5.97it/s]\n",
            "                 Class     Images  Instances      Box(P          R      mAP50  mAP50-95): 100% 2/2 [00:00<00:00,  8.28it/s]\n",
            "                   all         37        242      0.796      0.886      0.928      0.785\n",
            "\n",
            "      Epoch    GPU_mem   box_loss   cls_loss   dfl_loss  Instances       Size\n",
            "     67/100      8.16G     0.7673     0.7694      1.123         88        640: 100% 10/10 [00:01<00:00,  6.35it/s]\n",
            "                 Class     Images  Instances      Box(P          R      mAP50  mAP50-95): 100% 2/2 [00:00<00:00,  6.82it/s]\n",
            "                   all         37        242      0.828      0.886      0.923      0.793\n",
            "\n",
            "      Epoch    GPU_mem   box_loss   cls_loss   dfl_loss  Instances       Size\n",
            "     68/100      8.15G     0.7673     0.7532      1.118         76        640: 100% 10/10 [00:02<00:00,  4.28it/s]\n",
            "                 Class     Images  Instances      Box(P          R      mAP50  mAP50-95): 100% 2/2 [00:00<00:00,  7.45it/s]\n",
            "                   all         37        242      0.924      0.899      0.948      0.814\n",
            "\n",
            "      Epoch    GPU_mem   box_loss   cls_loss   dfl_loss  Instances       Size\n",
            "     69/100      8.16G     0.7572      0.749      1.137         85        640: 100% 10/10 [00:01<00:00,  5.73it/s]\n",
            "                 Class     Images  Instances      Box(P          R      mAP50  mAP50-95): 100% 2/2 [00:00<00:00,  8.03it/s]\n",
            "                   all         37        242      0.915      0.888      0.955      0.827\n",
            "\n",
            "      Epoch    GPU_mem   box_loss   cls_loss   dfl_loss  Instances       Size\n",
            "     70/100      8.14G     0.7857      0.773      1.158        100        640: 100% 10/10 [00:02<00:00,  4.16it/s]\n",
            "                 Class     Images  Instances      Box(P          R      mAP50  mAP50-95): 100% 2/2 [00:00<00:00,  7.44it/s]\n",
            "                   all         37        242      0.893      0.858      0.946      0.803\n",
            "\n",
            "      Epoch    GPU_mem   box_loss   cls_loss   dfl_loss  Instances       Size\n",
            "     71/100      8.14G     0.7577     0.7256      1.124         92        640: 100% 10/10 [00:01<00:00,  7.25it/s]\n",
            "                 Class     Images  Instances      Box(P          R      mAP50  mAP50-95): 100% 2/2 [00:00<00:00,  8.34it/s]\n",
            "                   all         37        242      0.908      0.895      0.953      0.825\n",
            "\n",
            "      Epoch    GPU_mem   box_loss   cls_loss   dfl_loss  Instances       Size\n",
            "     72/100      8.13G     0.7225     0.6867      1.124        107        640: 100% 10/10 [00:01<00:00,  6.06it/s]\n",
            "                 Class     Images  Instances      Box(P          R      mAP50  mAP50-95): 100% 2/2 [00:00<00:00,  8.04it/s]\n",
            "                   all         37        242      0.924      0.886      0.957      0.824\n",
            "\n",
            "      Epoch    GPU_mem   box_loss   cls_loss   dfl_loss  Instances       Size\n",
            "     73/100      8.12G     0.7529     0.7134      1.132         92        640: 100% 10/10 [00:01<00:00,  6.03it/s]\n",
            "                 Class     Images  Instances      Box(P          R      mAP50  mAP50-95): 100% 2/2 [00:00<00:00,  8.40it/s]\n",
            "                   all         37        242      0.936      0.868      0.961      0.824\n",
            "\n",
            "      Epoch    GPU_mem   box_loss   cls_loss   dfl_loss  Instances       Size\n",
            "     74/100      8.15G     0.7403     0.6791      1.116        108        640: 100% 10/10 [00:01<00:00,  6.50it/s]\n",
            "                 Class     Images  Instances      Box(P          R      mAP50  mAP50-95): 100% 2/2 [00:00<00:00,  7.87it/s]\n",
            "                   all         37        242      0.926      0.888      0.957      0.831\n",
            "\n",
            "      Epoch    GPU_mem   box_loss   cls_loss   dfl_loss  Instances       Size\n",
            "     75/100      8.12G      0.745     0.6949      1.123         79        640: 100% 10/10 [00:02<00:00,  4.22it/s]\n",
            "                 Class     Images  Instances      Box(P          R      mAP50  mAP50-95): 100% 2/2 [00:00<00:00,  7.66it/s]\n",
            "                   all         37        242      0.936      0.887      0.958      0.828\n",
            "\n",
            "      Epoch    GPU_mem   box_loss   cls_loss   dfl_loss  Instances       Size\n",
            "     76/100      8.08G     0.7482     0.6582      1.132         56        640: 100% 10/10 [00:01<00:00,  5.70it/s]\n",
            "                 Class     Images  Instances      Box(P          R      mAP50  mAP50-95): 100% 2/2 [00:00<00:00,  8.01it/s]\n",
            "                   all         37        242      0.955      0.875      0.964      0.828\n",
            "\n",
            "      Epoch    GPU_mem   box_loss   cls_loss   dfl_loss  Instances       Size\n",
            "     77/100      8.17G     0.7372     0.6702      1.101         98        640: 100% 10/10 [00:01<00:00,  5.83it/s]\n",
            "                 Class     Images  Instances      Box(P          R      mAP50  mAP50-95): 100% 2/2 [00:00<00:00,  7.25it/s]\n",
            "                   all         37        242      0.951      0.875      0.963      0.836\n",
            "\n",
            "      Epoch    GPU_mem   box_loss   cls_loss   dfl_loss  Instances       Size\n",
            "     78/100      8.11G     0.7371     0.6947      1.123        110        640: 100% 10/10 [00:01<00:00,  5.22it/s]\n",
            "                 Class     Images  Instances      Box(P          R      mAP50  mAP50-95): 100% 2/2 [00:00<00:00,  7.69it/s]\n",
            "                   all         37        242      0.927      0.881      0.961      0.821\n",
            "\n",
            "      Epoch    GPU_mem   box_loss   cls_loss   dfl_loss  Instances       Size\n",
            "     79/100      8.15G     0.7293      0.656      1.094         95        640: 100% 10/10 [00:01<00:00,  6.03it/s]\n",
            "                 Class     Images  Instances      Box(P          R      mAP50  mAP50-95): 100% 2/2 [00:00<00:00,  8.25it/s]\n",
            "                   all         37        242      0.963      0.875      0.966      0.839\n",
            "\n",
            "      Epoch    GPU_mem   box_loss   cls_loss   dfl_loss  Instances       Size\n",
            "     80/100      8.13G     0.7369     0.6885      1.141         86        640: 100% 10/10 [00:02<00:00,  4.16it/s]\n",
            "                 Class     Images  Instances      Box(P          R      mAP50  mAP50-95): 100% 2/2 [00:00<00:00,  7.97it/s]\n",
            "                   all         37        242      0.938      0.851      0.954      0.821\n",
            "\n",
            "      Epoch    GPU_mem   box_loss   cls_loss   dfl_loss  Instances       Size\n",
            "     81/100      8.16G     0.7431     0.6564      1.102         92        640: 100% 10/10 [00:01<00:00,  6.09it/s]\n",
            "                 Class     Images  Instances      Box(P          R      mAP50  mAP50-95): 100% 2/2 [00:00<00:00,  7.76it/s]\n",
            "                   all         37        242      0.931      0.914      0.957      0.811\n",
            "\n",
            "      Epoch    GPU_mem   box_loss   cls_loss   dfl_loss  Instances       Size\n",
            "     82/100      8.08G     0.7123     0.6202      1.077         74        640: 100% 10/10 [00:01<00:00,  5.81it/s]\n",
            "                 Class     Images  Instances      Box(P          R      mAP50  mAP50-95): 100% 2/2 [00:00<00:00,  7.69it/s]\n",
            "                   all         37        242      0.907      0.914      0.966      0.835\n",
            "\n",
            "      Epoch    GPU_mem   box_loss   cls_loss   dfl_loss  Instances       Size\n",
            "     83/100      8.12G     0.7642     0.6681      1.162        109        640: 100% 10/10 [00:01<00:00,  5.95it/s]\n",
            "                 Class     Images  Instances      Box(P          R      mAP50  mAP50-95): 100% 2/2 [00:00<00:00,  7.73it/s]\n",
            "                   all         37        242      0.933      0.901      0.965       0.84\n",
            "\n",
            "      Epoch    GPU_mem   box_loss   cls_loss   dfl_loss  Instances       Size\n",
            "     84/100      8.16G     0.7168     0.6411      1.092         94        640: 100% 10/10 [00:02<00:00,  4.14it/s]\n",
            "                 Class     Images  Instances      Box(P          R      mAP50  mAP50-95): 100% 2/2 [00:00<00:00,  8.02it/s]\n",
            "                   all         37        242      0.901      0.917      0.959      0.821\n",
            "\n",
            "      Epoch    GPU_mem   box_loss   cls_loss   dfl_loss  Instances       Size\n",
            "     85/100      8.16G     0.7394     0.6645      1.113         64        640: 100% 10/10 [00:01<00:00,  5.95it/s]\n",
            "                 Class     Images  Instances      Box(P          R      mAP50  mAP50-95): 100% 2/2 [00:00<00:00,  8.35it/s]\n",
            "                   all         37        242      0.935      0.899      0.969      0.844\n",
            "\n",
            "      Epoch    GPU_mem   box_loss   cls_loss   dfl_loss  Instances       Size\n",
            "     86/100      8.13G     0.6912     0.6101      1.072         96        640: 100% 10/10 [00:02<00:00,  4.49it/s]\n",
            "                 Class     Images  Instances      Box(P          R      mAP50  mAP50-95): 100% 2/2 [00:00<00:00,  8.23it/s]\n",
            "                   all         37        242      0.958      0.905      0.971      0.847\n",
            "\n",
            "      Epoch    GPU_mem   box_loss   cls_loss   dfl_loss  Instances       Size\n",
            "     87/100      8.17G     0.7114     0.6296        1.1         87        640: 100% 10/10 [00:01<00:00,  5.96it/s]\n",
            "                 Class     Images  Instances      Box(P          R      mAP50  mAP50-95): 100% 2/2 [00:00<00:00,  8.07it/s]\n",
            "                   all         37        242      0.955      0.924      0.967      0.842\n",
            "\n",
            "      Epoch    GPU_mem   box_loss   cls_loss   dfl_loss  Instances       Size\n",
            "     88/100      8.15G     0.7016     0.6126      1.096         84        640: 100% 10/10 [00:01<00:00,  5.97it/s]\n",
            "                 Class     Images  Instances      Box(P          R      mAP50  mAP50-95): 100% 2/2 [00:00<00:00,  8.02it/s]\n",
            "                   all         37        242      0.965      0.916      0.974       0.85\n",
            "\n",
            "      Epoch    GPU_mem   box_loss   cls_loss   dfl_loss  Instances       Size\n",
            "     89/100      8.14G     0.6997     0.6267      1.085        108        640: 100% 10/10 [00:02<00:00,  4.18it/s]\n",
            "                 Class     Images  Instances      Box(P          R      mAP50  mAP50-95): 100% 2/2 [00:00<00:00,  7.72it/s]\n",
            "                   all         37        242      0.963      0.896      0.975      0.847\n",
            "\n",
            "      Epoch    GPU_mem   box_loss   cls_loss   dfl_loss  Instances       Size\n",
            "     90/100      8.15G     0.6875     0.6271       1.09         90        640: 100% 10/10 [00:01<00:00,  6.56it/s]\n",
            "                 Class     Images  Instances      Box(P          R      mAP50  mAP50-95): 100% 2/2 [00:00<00:00,  7.79it/s]\n",
            "                   all         37        242      0.947      0.902      0.974      0.846\n",
            "Closing dataloader mosaic\n",
            "\u001b[34m\u001b[1malbumentations: \u001b[0mBlur(p=0.01, blur_limit=(3, 7)), MedianBlur(p=0.01, blur_limit=(3, 7)), ToGray(p=0.01, num_output_channels=3, method='weighted_average'), CLAHE(p=0.01, clip_limit=(1, 4.0), tile_grid_size=(8, 8))\n",
            "\n",
            "      Epoch    GPU_mem   box_loss   cls_loss   dfl_loss  Instances       Size\n",
            "     91/100      8.16G     0.6149     0.5382      1.039         59        640: 100% 10/10 [00:02<00:00,  3.54it/s]\n",
            "                 Class     Images  Instances      Box(P          R      mAP50  mAP50-95): 100% 2/2 [00:00<00:00,  7.21it/s]\n",
            "                   all         37        242      0.941      0.908       0.97      0.845\n",
            "\n",
            "      Epoch    GPU_mem   box_loss   cls_loss   dfl_loss  Instances       Size\n",
            "     92/100      8.12G     0.5843     0.4948      1.024         55        640: 100% 10/10 [00:01<00:00,  7.02it/s]\n",
            "                 Class     Images  Instances      Box(P          R      mAP50  mAP50-95): 100% 2/2 [00:00<00:00,  7.12it/s]\n",
            "                   all         37        242      0.973      0.904      0.972      0.848\n",
            "\n",
            "      Epoch    GPU_mem   box_loss   cls_loss   dfl_loss  Instances       Size\n",
            "     93/100      8.12G     0.5866     0.4998      1.036         62        640: 100% 10/10 [00:01<00:00,  5.93it/s]\n",
            "                 Class     Images  Instances      Box(P          R      mAP50  mAP50-95): 100% 2/2 [00:00<00:00,  8.28it/s]\n",
            "                   all         37        242      0.977      0.899      0.973      0.861\n",
            "\n",
            "      Epoch    GPU_mem   box_loss   cls_loss   dfl_loss  Instances       Size\n",
            "     94/100      8.15G     0.5687      0.466      1.009         53        640: 100% 10/10 [00:02<00:00,  4.55it/s]\n",
            "                 Class     Images  Instances      Box(P          R      mAP50  mAP50-95): 100% 2/2 [00:00<00:00,  7.94it/s]\n",
            "                   all         37        242       0.96      0.898      0.974      0.857\n",
            "\n",
            "      Epoch    GPU_mem   box_loss   cls_loss   dfl_loss  Instances       Size\n",
            "     95/100      8.16G     0.5805     0.4769      1.026         65        640: 100% 10/10 [00:01<00:00,  5.40it/s]\n",
            "                 Class     Images  Instances      Box(P          R      mAP50  mAP50-95): 100% 2/2 [00:00<00:00,  7.93it/s]\n",
            "                   all         37        242      0.967      0.904      0.974      0.854\n",
            "\n",
            "      Epoch    GPU_mem   box_loss   cls_loss   dfl_loss  Instances       Size\n",
            "     96/100      8.16G     0.5746     0.4652      1.025         61        640: 100% 10/10 [00:01<00:00,  5.71it/s]\n",
            "                 Class     Images  Instances      Box(P          R      mAP50  mAP50-95): 100% 2/2 [00:00<00:00,  8.00it/s]\n",
            "                   all         37        242      0.944       0.92      0.976      0.859\n",
            "\n",
            "      Epoch    GPU_mem   box_loss   cls_loss   dfl_loss  Instances       Size\n",
            "     97/100      8.12G     0.5793      0.474      1.007         72        640: 100% 10/10 [00:01<00:00,  5.68it/s]\n",
            "                 Class     Images  Instances      Box(P          R      mAP50  mAP50-95): 100% 2/2 [00:00<00:00,  8.40it/s]\n",
            "                   all         37        242      0.973      0.906      0.979      0.862\n",
            "\n",
            "      Epoch    GPU_mem   box_loss   cls_loss   dfl_loss  Instances       Size\n",
            "     98/100      8.16G     0.5749     0.4742      1.005         52        640: 100% 10/10 [00:02<00:00,  4.31it/s]\n",
            "                 Class     Images  Instances      Box(P          R      mAP50  mAP50-95): 100% 2/2 [00:00<00:00,  7.67it/s]\n",
            "                   all         37        242      0.971       0.91      0.979      0.867\n",
            "\n",
            "      Epoch    GPU_mem   box_loss   cls_loss   dfl_loss  Instances       Size\n",
            "     99/100      8.13G     0.5723     0.4777      1.045         53        640: 100% 10/10 [00:02<00:00,  4.93it/s]\n",
            "                 Class     Images  Instances      Box(P          R      mAP50  mAP50-95): 100% 2/2 [00:00<00:00,  7.73it/s]\n",
            "                   all         37        242      0.956      0.916      0.978      0.863\n",
            "\n",
            "      Epoch    GPU_mem   box_loss   cls_loss   dfl_loss  Instances       Size\n",
            "    100/100      8.12G     0.5539     0.4434      1.021         59        640: 100% 10/10 [00:01<00:00,  5.69it/s]\n",
            "                 Class     Images  Instances      Box(P          R      mAP50  mAP50-95): 100% 2/2 [00:00<00:00,  7.67it/s]\n",
            "                   all         37        242      0.948      0.927      0.979      0.867\n",
            "\n",
            "100 epochs completed in 0.119 hours.\n",
            "Optimizer stripped from runs/detect/Orginal_Model_Output/weights/last.pt, 87.7MB\n",
            "Optimizer stripped from runs/detect/Orginal_Model_Output/weights/best.pt, 87.7MB\n",
            "\n",
            "Validating runs/detect/Orginal_Model_Output/weights/best.pt...\n",
            "WARNING ⚠️ validating an untrained model YAML will result in 0 mAP.\n",
            "Ultralytics 8.3.18 🚀 Python-3.10.12 torch-2.4.1+cu121 CUDA:0 (NVIDIA A100-SXM4-40GB, 40514MiB)\n",
            "YOLOv8l summary (fused): 268 layers, 43,608,921 parameters, 0 gradients, 164.8 GFLOPs\n",
            "                 Class     Images  Instances      Box(P          R      mAP50  mAP50-95): 100% 2/2 [00:00<00:00,  5.88it/s]\n",
            "                   all         37        242      0.971       0.91      0.979      0.867\n",
            "                  cube         35         84      0.925      0.881      0.971      0.858\n",
            "                sphere         32         74          1      0.969      0.993      0.899\n",
            "              cylinder         34         84      0.987      0.881      0.974      0.845\n",
            "Speed: 0.1ms preprocess, 3.6ms inference, 0.0ms loss, 0.9ms postprocess per image\n",
            "Results saved to \u001b[1mruns/detect/Orginal_Model_Output\u001b[0m\n",
            "\u001b[34m\u001b[1mwandb\u001b[0m:                                                                                \n",
            "\u001b[34m\u001b[1mwandb\u001b[0m: \n",
            "\u001b[34m\u001b[1mwandb\u001b[0m: Run history:\n",
            "\u001b[34m\u001b[1mwandb\u001b[0m:                  lr/pg0 ▂▄▅▇▇██▇▇▇▇▇▇▆▆▆▅▅▅▅▅▄▄▄▄▃▃▃▃▃▂▂▂▂▂▂▂▁▁▁\n",
            "\u001b[34m\u001b[1mwandb\u001b[0m:                  lr/pg1 ▁▃▄▅▅████▇▆▆▆▆▆▅▅▅▅▅▅▅▄▄▄▄▄▃▃▃▃▃▂▂▂▂▂▂▁▁\n",
            "\u001b[34m\u001b[1mwandb\u001b[0m:                  lr/pg2 ▁▃▅██▇▇▇▇▇▇▇▇▆▆▆▆▅▅▅▅▄▄▄▄▄▃▃▃▃▃▂▂▂▂▂▂▁▁▁\n",
            "\u001b[34m\u001b[1mwandb\u001b[0m:        metrics/mAP50(B) ▁▁▁▁▁▂▂▂▄▅▅▅▆▆▆▆▆▆▇▇▇▇▇▇▇▇██████████████\n",
            "\u001b[34m\u001b[1mwandb\u001b[0m:     metrics/mAP50-95(B) ▁▁▁▁▁▃▄▄▄▄▅▅▅▅▅▅▆▆▆▆▆▇▇▇▇▇▇▇▇▇██████████\n",
            "\u001b[34m\u001b[1mwandb\u001b[0m:    metrics/precision(B) ▁▁▁▁▁▂▄▅▄▅▅▄▄▅▅▅▆▅▅▅▆▆▆▇▇▇▇▇▇███████████\n",
            "\u001b[34m\u001b[1mwandb\u001b[0m:       metrics/recall(B) ▁▁▁▁▁▃▃▃▆▆▅▆▆▇▆▇▇▇▇▇▇▇▇▇▇▇▇█████████████\n",
            "\u001b[34m\u001b[1mwandb\u001b[0m:            model/GFLOPs ▁\n",
            "\u001b[34m\u001b[1mwandb\u001b[0m:        model/parameters ▁\n",
            "\u001b[34m\u001b[1mwandb\u001b[0m: model/speed_PyTorch(ms) ▁\n",
            "\u001b[34m\u001b[1mwandb\u001b[0m:          train/box_loss █▇▅▄▄▃▃▃▃▃▃▂▂▂▂▂▂▂▂▂▂▂▂▂▂▂▁▂▁▁▁▁▁▁▁▁▁▁▁▁\n",
            "\u001b[34m\u001b[1mwandb\u001b[0m:          train/cls_loss █▅▄▄▄▃▃▃▃▃▃▃▃▃▃▂▂▂▂▂▂▂▂▂▂▁▁▁▁▁▁▁▁▁▁▁▁▁▁▁\n",
            "\u001b[34m\u001b[1mwandb\u001b[0m:          train/dfl_loss █▆▅▄▄▃▃▂▂▂▂▂▂▂▂▂▂▂▂▁▁▁▁▁▁▁▁▁▁▁▁▁▁▁▁▁▁▁▁▁\n",
            "\u001b[34m\u001b[1mwandb\u001b[0m:            val/box_loss ███▅▃▃▂▂▂▂▂▂▂▂▁▂▁▂▁▁▁▁▁▁▁▁▁▁▁▁▁▁▁▁▁▁▁▁▁▁\n",
            "\u001b[34m\u001b[1mwandb\u001b[0m:            val/cls_loss ▁▁▁▁▁█▂▃▁▁▁▁▁▁▁▁▁▁▁▁▁▁▁▁▁▁▁▁▁▁▁▁▁▁▁▁▁▁▁▁\n",
            "\u001b[34m\u001b[1mwandb\u001b[0m:            val/dfl_loss █████▆▆▃▂▂▂▂▂▂▂▁▁▁▁▁▁▁▁▁▁▁▁▁▁▁▁▁▁▁▁▁▁▁▁▁\n",
            "\u001b[34m\u001b[1mwandb\u001b[0m: \n",
            "\u001b[34m\u001b[1mwandb\u001b[0m: Run summary:\n",
            "\u001b[34m\u001b[1mwandb\u001b[0m:                  lr/pg0 3e-05\n",
            "\u001b[34m\u001b[1mwandb\u001b[0m:                  lr/pg1 3e-05\n",
            "\u001b[34m\u001b[1mwandb\u001b[0m:                  lr/pg2 3e-05\n",
            "\u001b[34m\u001b[1mwandb\u001b[0m:        metrics/mAP50(B) 0.97909\n",
            "\u001b[34m\u001b[1mwandb\u001b[0m:     metrics/mAP50-95(B) 0.86719\n",
            "\u001b[34m\u001b[1mwandb\u001b[0m:    metrics/precision(B) 0.97056\n",
            "\u001b[34m\u001b[1mwandb\u001b[0m:       metrics/recall(B) 0.91036\n",
            "\u001b[34m\u001b[1mwandb\u001b[0m:            model/GFLOPs 165.412\n",
            "\u001b[34m\u001b[1mwandb\u001b[0m:        model/parameters 43632153\n",
            "\u001b[34m\u001b[1mwandb\u001b[0m: model/speed_PyTorch(ms) 6.594\n",
            "\u001b[34m\u001b[1mwandb\u001b[0m:          train/box_loss 0.55394\n",
            "\u001b[34m\u001b[1mwandb\u001b[0m:          train/cls_loss 0.44342\n",
            "\u001b[34m\u001b[1mwandb\u001b[0m:          train/dfl_loss 1.02135\n",
            "\u001b[34m\u001b[1mwandb\u001b[0m:            val/box_loss 0.58038\n",
            "\u001b[34m\u001b[1mwandb\u001b[0m:            val/cls_loss 0.47059\n",
            "\u001b[34m\u001b[1mwandb\u001b[0m:            val/dfl_loss 1.01299\n",
            "\u001b[34m\u001b[1mwandb\u001b[0m: \n",
            "\u001b[34m\u001b[1mwandb\u001b[0m: 🚀 View run \u001b[33mOrginal_Model_Output\u001b[0m at: \u001b[34m\u001b[4mhttps://wandb.ai/eng-hossein-hashemi-sapienza-universit-di-roma/Ultralytics/runs/dh8ga3hc\u001b[0m\n",
            "\u001b[34m\u001b[1mwandb\u001b[0m: ⭐️ View project at: \u001b[34m\u001b[4mhttps://wandb.ai/eng-hossein-hashemi-sapienza-universit-di-roma/Ultralytics\u001b[0m\n",
            "\u001b[34m\u001b[1mwandb\u001b[0m: Synced 5 W&B file(s), 0 media file(s), 10 artifact file(s) and 22 other file(s)\n",
            "\u001b[34m\u001b[1mwandb\u001b[0m: Find logs at: \u001b[35m\u001b[1m./wandb/run-20241021_011029-dh8ga3hc/logs\u001b[0m\n",
            "💡 Learn more at https://docs.ultralytics.com/modes/train\n"
          ]
        }
      ],
      "source": [
        "# Training Original Model\n",
        "!yolo detect train model=yolov8l.yaml data=data/CLEVR.yaml workers=2 batch=12 device=0 epochs=100 patience=50 name=Orginal_Model_Output"
      ]
    },
    {
      "cell_type": "markdown",
      "metadata": {
        "id": "ltDXbk311KS9"
      },
      "source": [
        "### Training the modified model"
      ]
    },
    {
      "cell_type": "code",
      "execution_count": 26,
      "metadata": {
        "id": "WDXwz5zPPfFV",
        "colab": {
          "base_uri": "https://localhost:8080/"
        },
        "outputId": "c19606be-3c23-4abb-b2d1-12e7c7383707"
      },
      "outputs": [
        {
          "output_type": "stream",
          "name": "stdout",
          "text": [
            "Ultralytics 8.3.18 🚀 Python-3.10.12 torch-2.4.1+cu121 CUDA:0 (NVIDIA A100-SXM4-40GB, 40514MiB)\n",
            "\u001b[34m\u001b[1mengine/trainer: \u001b[0mtask=detect, mode=train, model=Modify_YOLOv8.yaml, data=data/CLEVR.yaml, epochs=100, time=None, patience=50, batch=12, imgsz=640, save=True, save_period=-1, cache=False, device=0, workers=2, project=None, name=Modified_Model_Output, exist_ok=False, pretrained=True, optimizer=auto, verbose=True, seed=0, deterministic=True, single_cls=False, rect=False, cos_lr=False, close_mosaic=10, resume=False, amp=True, fraction=1.0, profile=False, freeze=None, multi_scale=False, overlap_mask=True, mask_ratio=4, dropout=0.0, val=True, split=val, save_json=False, save_hybrid=False, conf=None, iou=0.7, max_det=300, half=False, dnn=False, plots=True, source=None, vid_stride=1, stream_buffer=False, visualize=False, augment=False, agnostic_nms=False, classes=None, retina_masks=False, embed=None, show=False, save_frames=False, save_txt=False, save_conf=False, save_crop=False, show_labels=True, show_conf=True, show_boxes=True, line_width=None, format=torchscript, keras=False, optimize=False, int8=False, dynamic=False, simplify=True, opset=None, workspace=4, nms=False, lr0=0.01, lrf=0.01, momentum=0.937, weight_decay=0.0005, warmup_epochs=3.0, warmup_momentum=0.8, warmup_bias_lr=0.1, box=7.5, cls=0.5, dfl=1.5, pose=12.0, kobj=1.0, label_smoothing=0.0, nbs=64, hsv_h=0.015, hsv_s=0.7, hsv_v=0.4, degrees=0.0, translate=0.1, scale=0.5, shear=0.0, perspective=0.0, flipud=0.0, fliplr=0.5, bgr=0.0, mosaic=1.0, mixup=0.0, copy_paste=0.0, copy_paste_mode=flip, auto_augment=randaugment, erasing=0.4, crop_fraction=1.0, cfg=None, tracker=botsort.yaml, save_dir=runs/detect/Modified_Model_Output\n",
            "Overriding model.yaml nc=80 with nc=3\n",
            "\n",
            "                   from  n    params  module                                       arguments                     \n",
            "  0                  -1  1       696  ultralytics.nn.modules.conv.Conv             [3, 24, 3, 1]                 \n",
            "  1                  -1  1     10464  ultralytics.nn.modules.conv.Conv             [24, 48, 3, 2]                \n",
            "  2                  -1  1     16416  ultralytics.nn.modules.block.C2f             [48, 48, 1, True]             \n",
            "  3                  -1  1     41664  ultralytics.nn.modules.conv.Conv             [48, 96, 3, 2]                \n",
            "  4                  -1  3    157632  ultralytics.nn.modules.block.C2f             [96, 96, 3, True]             \n",
            "  5                  -1  1    166272  ultralytics.nn.modules.conv.Conv             [96, 192, 3, 2]               \n",
            "  6                  -1  2    443904  ultralytics.nn.modules.block.C2f             [192, 192, 2, True]           \n",
            "  7                  -1  1    498240  ultralytics.nn.modules.conv.Conv             [192, 288, 3, 2]              \n",
            "  8                  -1  1    582336  ultralytics.nn.modules.block.C2f             [288, 288, 1, True]           \n",
            "  9                  -1  1    208224  ultralytics.nn.modules.block.SPPF            [288, 288, 3]                 \n",
            " 10                  -1  1    747072  ultralytics.nn.modules.conv.Conv             [288, 288, 3, 1]              \n",
            " 11                  -1  1    582336  ultralytics.nn.modules.block.C2f             [288, 288, 1, True]           \n",
            " 12                  -1  1         0  torch.nn.modules.upsampling.Upsample         [None, 2, 'nearest']          \n",
            " 13             [-1, 6]  1         0  ultralytics.nn.modules.conv.Concat           [1]                           \n",
            " 14                  -1  1    314496  ultralytics.nn.modules.block.C2f             [480, 192, 1]                 \n",
            " 15                   4  1     83136  ultralytics.nn.modules.conv.Conv             [96, 96, 3, 2]                \n",
            " 16            [-1, 12]  1         0  ultralytics.nn.modules.conv.Concat           [1]                           \n",
            " 17                  -1  1    296064  ultralytics.nn.modules.block.C2f             [384, 192, 1]                 \n",
            " 18                [12]  1   1733267  ultralytics.nn.modules.head.Detect           [3, [288]]                    \n",
            "Modify_YOLOv8 summary: 182 layers, 5,882,219 parameters, 5,882,203 gradients, 63.8 GFLOPs\n",
            "\n",
            "\u001b[34m\u001b[1mTensorBoard: \u001b[0mStart with 'tensorboard --logdir runs/detect/Modified_Model_Output', view at http://localhost:6006/\n",
            "\u001b[34m\u001b[1mwandb\u001b[0m: Using wandb-core as the SDK backend. Please refer to https://wandb.me/wandb-core for more information.\n",
            "\u001b[34m\u001b[1mwandb\u001b[0m: Currently logged in as: \u001b[33meng-hossein-hashemi\u001b[0m (\u001b[33meng-hossein-hashemi-sapienza-universit-di-roma\u001b[0m). Use \u001b[1m`wandb login --relogin`\u001b[0m to force relogin\n",
            "\u001b[34m\u001b[1mwandb\u001b[0m: Tracking run with wandb version 0.18.3\n",
            "\u001b[34m\u001b[1mwandb\u001b[0m: Run data is saved locally in \u001b[35m\u001b[1m/content/gdrive/MyDrive/YOLOv8_Optimization/wandb/run-20241021_011825-h245x5jw\u001b[0m\n",
            "\u001b[34m\u001b[1mwandb\u001b[0m: Run \u001b[1m`wandb offline`\u001b[0m to turn off syncing.\n",
            "\u001b[34m\u001b[1mwandb\u001b[0m: Syncing run \u001b[33mModified_Model_Output\u001b[0m\n",
            "\u001b[34m\u001b[1mwandb\u001b[0m: ⭐️ View project at \u001b[34m\u001b[4mhttps://wandb.ai/eng-hossein-hashemi-sapienza-universit-di-roma/Ultralytics\u001b[0m\n",
            "\u001b[34m\u001b[1mwandb\u001b[0m: 🚀 View run at \u001b[34m\u001b[4mhttps://wandb.ai/eng-hossein-hashemi-sapienza-universit-di-roma/Ultralytics/runs/h245x5jw\u001b[0m\n",
            "Freezing layer 'model.18.dfl.conv.weight'\n",
            "\u001b[34m\u001b[1mAMP: \u001b[0mrunning Automatic Mixed Precision (AMP) checks with YOLO11n...\n",
            "\u001b[34m\u001b[1mAMP: \u001b[0mchecks passed ✅\n",
            "\u001b[34m\u001b[1mtrain: \u001b[0mScanning /content/gdrive/MyDrive/Sep25_yolov8-final0_1_komaki/data/CLEVR-Hans_dataset/labels/train.cache... 118 images, 0 backgrounds, 0 corrupt: 100% 118/118 [00:00<?, ?it/s]\n",
            "/usr/local/lib/python3.10/dist-packages/albumentations/__init__.py:13: UserWarning: A new version of Albumentations is available: 1.4.18 (you have 1.4.15). Upgrade using: pip install -U albumentations. To disable automatic update checks, set the environment variable NO_ALBUMENTATIONS_UPDATE to 1.\n",
            "  check_for_updates()\n",
            "\u001b[34m\u001b[1malbumentations: \u001b[0mBlur(p=0.01, blur_limit=(3, 7)), MedianBlur(p=0.01, blur_limit=(3, 7)), ToGray(p=0.01, num_output_channels=3, method='weighted_average'), CLAHE(p=0.01, clip_limit=(1, 4.0), tile_grid_size=(8, 8))\n",
            "\u001b[34m\u001b[1mval: \u001b[0mScanning /content/gdrive/MyDrive/Sep25_yolov8-final0_1_komaki/data/CLEVR-Hans_dataset/labels/val.cache... 37 images, 0 backgrounds, 0 corrupt: 100% 37/37 [00:00<?, ?it/s]\n",
            "Plotting labels to runs/detect/Modified_Model_Output/labels.jpg... \n",
            "\u001b[34m\u001b[1moptimizer:\u001b[0m 'optimizer=auto' found, ignoring 'lr0=0.01' and 'momentum=0.937' and determining best 'optimizer', 'lr0' and 'momentum' automatically... \n",
            "\u001b[34m\u001b[1moptimizer:\u001b[0m AdamW(lr=0.001429, momentum=0.9) with parameter groups 47 weight(decay=0.0), 50 weight(decay=0.00046875), 49 bias(decay=0.0)\n",
            "\u001b[34m\u001b[1mTensorBoard: \u001b[0mmodel graph visualization added ✅\n",
            "Image sizes 640 train, 640 val\n",
            "Using 2 dataloader workers\n",
            "Logging results to \u001b[1mruns/detect/Modified_Model_Output\u001b[0m\n",
            "Starting training for 100 epochs...\n",
            "\n",
            "      Epoch    GPU_mem   box_loss   cls_loss   dfl_loss  Instances       Size\n",
            "      1/100      6.69G      3.994      4.059      4.459         84        640: 100% 10/10 [00:02<00:00,  3.84it/s]\n",
            "                 Class     Images  Instances      Box(P          R      mAP50  mAP50-95): 100% 2/2 [00:00<00:00,  7.30it/s]\n",
            "                   all         37        242          0          0          0          0\n",
            "\n",
            "      Epoch    GPU_mem   box_loss   cls_loss   dfl_loss  Instances       Size\n",
            "      2/100      6.53G      3.711      3.473      4.118         74        640: 100% 10/10 [00:01<00:00,  7.53it/s]\n",
            "                 Class     Images  Instances      Box(P          R      mAP50  mAP50-95): 100% 2/2 [00:00<00:00, 13.56it/s]\n",
            "                   all         37        242          0          0          0          0\n",
            "\n",
            "      Epoch    GPU_mem   box_loss   cls_loss   dfl_loss  Instances       Size\n",
            "      3/100      6.52G      3.274      3.054      3.778        128        640: 100% 10/10 [00:01<00:00,  7.73it/s]\n",
            "                 Class     Images  Instances      Box(P          R      mAP50  mAP50-95): 100% 2/2 [00:00<00:00, 13.03it/s]\n",
            "                   all         37        242          0          0          0          0\n",
            "\n",
            "      Epoch    GPU_mem   box_loss   cls_loss   dfl_loss  Instances       Size\n",
            "      4/100      6.52G      2.897      2.759      3.366         91        640: 100% 10/10 [00:01<00:00,  7.82it/s]\n",
            "                 Class     Images  Instances      Box(P          R      mAP50  mAP50-95): 100% 2/2 [00:00<00:00, 13.79it/s]\n",
            "                   all         37        242          0          0          0          0\n",
            "\n",
            "      Epoch    GPU_mem   box_loss   cls_loss   dfl_loss  Instances       Size\n",
            "      5/100      6.52G      2.608      2.507      3.045        100        640: 100% 10/10 [00:01<00:00,  7.98it/s]\n",
            "                 Class     Images  Instances      Box(P          R      mAP50  mAP50-95): 100% 2/2 [00:00<00:00, 12.35it/s]\n",
            "                   all         37        242          0          0          0          0\n",
            "\n",
            "      Epoch    GPU_mem   box_loss   cls_loss   dfl_loss  Instances       Size\n",
            "      6/100      6.53G      2.349      2.384      2.912         94        640: 100% 10/10 [00:01<00:00,  7.97it/s]\n",
            "                 Class     Images  Instances      Box(P          R      mAP50  mAP50-95): 100% 2/2 [00:00<00:00, 11.91it/s]\n",
            "                   all         37        242          0          0          0          0\n",
            "\n",
            "      Epoch    GPU_mem   box_loss   cls_loss   dfl_loss  Instances       Size\n",
            "      7/100      6.54G      2.334      2.348      2.682         81        640: 100% 10/10 [00:01<00:00,  7.97it/s]\n",
            "                 Class     Images  Instances      Box(P          R      mAP50  mAP50-95): 100% 2/2 [00:00<00:00, 12.50it/s]\n",
            "                   all         37        242          0          0          0          0\n",
            "\n",
            "      Epoch    GPU_mem   box_loss   cls_loss   dfl_loss  Instances       Size\n",
            "      8/100      6.52G      2.111      2.201      2.547         56        640: 100% 10/10 [00:01<00:00,  8.00it/s]\n",
            "                 Class     Images  Instances      Box(P          R      mAP50  mAP50-95): 100% 2/2 [00:00<00:00, 12.58it/s]\n",
            "                   all         37        242          0          0          0          0\n",
            "\n",
            "      Epoch    GPU_mem   box_loss   cls_loss   dfl_loss  Instances       Size\n",
            "      9/100      6.54G      2.033      2.208      2.474         62        640: 100% 10/10 [00:01<00:00,  7.89it/s]\n",
            "                 Class     Images  Instances      Box(P          R      mAP50  mAP50-95): 100% 2/2 [00:00<00:00, 13.10it/s]\n",
            "                   all         37        242          0          0          0          0\n",
            "\n",
            "      Epoch    GPU_mem   box_loss   cls_loss   dfl_loss  Instances       Size\n",
            "     10/100      6.53G      1.896       2.01      2.251        115        640: 100% 10/10 [00:01<00:00,  8.00it/s]\n",
            "                 Class     Images  Instances      Box(P          R      mAP50  mAP50-95): 100% 2/2 [00:00<00:00, 12.66it/s]\n",
            "                   all         37        242          0          0          0          0\n",
            "\n",
            "      Epoch    GPU_mem   box_loss   cls_loss   dfl_loss  Instances       Size\n",
            "     11/100      6.54G      1.776      1.954       2.17        105        640: 100% 10/10 [00:01<00:00,  7.96it/s]\n",
            "                 Class     Images  Instances      Box(P          R      mAP50  mAP50-95): 100% 2/2 [00:00<00:00,  9.72it/s]\n",
            "                   all         37        242     0.0554      0.217     0.0624     0.0263\n",
            "\n",
            "      Epoch    GPU_mem   box_loss   cls_loss   dfl_loss  Instances       Size\n",
            "     12/100      6.53G      1.698      1.919      2.147        100        640: 100% 10/10 [00:01<00:00,  8.02it/s]\n",
            "                 Class     Images  Instances      Box(P          R      mAP50  mAP50-95): 100% 2/2 [00:00<00:00,  8.82it/s]\n",
            "                   all         37        242      0.288      0.375      0.197     0.0972\n",
            "\n",
            "      Epoch    GPU_mem   box_loss   cls_loss   dfl_loss  Instances       Size\n",
            "     13/100      6.54G      1.648      1.835       2.04         77        640: 100% 10/10 [00:01<00:00,  8.07it/s]\n",
            "                 Class     Images  Instances      Box(P          R      mAP50  mAP50-95): 100% 2/2 [00:00<00:00,  8.64it/s]\n",
            "                   all         37        242       0.34      0.478      0.301      0.149\n",
            "\n",
            "      Epoch    GPU_mem   box_loss   cls_loss   dfl_loss  Instances       Size\n",
            "     14/100      6.53G      1.563      1.874       2.02         61        640: 100% 10/10 [00:01<00:00,  8.09it/s]\n",
            "                 Class     Images  Instances      Box(P          R      mAP50  mAP50-95): 100% 2/2 [00:00<00:00,  7.16it/s]\n",
            "                   all         37        242      0.326      0.629      0.377      0.213\n",
            "\n",
            "      Epoch    GPU_mem   box_loss   cls_loss   dfl_loss  Instances       Size\n",
            "     15/100      6.54G      1.574      1.908      1.989        109        640: 100% 10/10 [00:01<00:00,  8.02it/s]\n",
            "                 Class     Images  Instances      Box(P          R      mAP50  mAP50-95): 100% 2/2 [00:00<00:00,  7.77it/s]\n",
            "                   all         37        242      0.333      0.727      0.369      0.175\n",
            "\n",
            "      Epoch    GPU_mem   box_loss   cls_loss   dfl_loss  Instances       Size\n",
            "     16/100      6.53G      1.611      1.796      2.009         89        640: 100% 10/10 [00:01<00:00,  8.15it/s]\n",
            "                 Class     Images  Instances      Box(P          R      mAP50  mAP50-95): 100% 2/2 [00:00<00:00,  8.39it/s]\n",
            "                   all         37        242      0.364      0.697      0.432      0.249\n",
            "\n",
            "      Epoch    GPU_mem   box_loss   cls_loss   dfl_loss  Instances       Size\n",
            "     17/100      6.54G      1.565      1.772      1.907        104        640: 100% 10/10 [00:01<00:00,  8.14it/s]\n",
            "                 Class     Images  Instances      Box(P          R      mAP50  mAP50-95): 100% 2/2 [00:00<00:00,  9.08it/s]\n",
            "                   all         37        242      0.335      0.693      0.384       0.25\n",
            "\n",
            "      Epoch    GPU_mem   box_loss   cls_loss   dfl_loss  Instances       Size\n",
            "     18/100      6.53G      1.536      1.729      1.841         91        640: 100% 10/10 [00:01<00:00,  8.04it/s]\n",
            "                 Class     Images  Instances      Box(P          R      mAP50  mAP50-95): 100% 2/2 [00:00<00:00,  9.04it/s]\n",
            "                   all         37        242      0.331        0.8      0.387      0.255\n",
            "\n",
            "      Epoch    GPU_mem   box_loss   cls_loss   dfl_loss  Instances       Size\n",
            "     19/100      6.54G      1.437      1.694      1.811         64        640: 100% 10/10 [00:01<00:00,  8.09it/s]\n",
            "                 Class     Images  Instances      Box(P          R      mAP50  mAP50-95): 100% 2/2 [00:00<00:00,  8.73it/s]\n",
            "                   all         37        242      0.332      0.866      0.434      0.314\n",
            "\n",
            "      Epoch    GPU_mem   box_loss   cls_loss   dfl_loss  Instances       Size\n",
            "     20/100      6.53G      1.378      1.657      1.707         67        640: 100% 10/10 [00:01<00:00,  8.06it/s]\n",
            "                 Class     Images  Instances      Box(P          R      mAP50  mAP50-95): 100% 2/2 [00:00<00:00,  8.92it/s]\n",
            "                   all         37        242      0.387      0.773      0.455      0.313\n",
            "\n",
            "      Epoch    GPU_mem   box_loss   cls_loss   dfl_loss  Instances       Size\n",
            "     21/100      6.54G      1.339      1.656      1.716         63        640: 100% 10/10 [00:01<00:00,  7.95it/s]\n",
            "                 Class     Images  Instances      Box(P          R      mAP50  mAP50-95): 100% 2/2 [00:00<00:00,  8.13it/s]\n",
            "                   all         37        242      0.397      0.788      0.453      0.287\n",
            "\n",
            "      Epoch    GPU_mem   box_loss   cls_loss   dfl_loss  Instances       Size\n",
            "     22/100      6.53G      1.301      1.609      1.683         98        640: 100% 10/10 [00:01<00:00,  8.00it/s]\n",
            "                 Class     Images  Instances      Box(P          R      mAP50  mAP50-95): 100% 2/2 [00:00<00:00,  8.19it/s]\n",
            "                   all         37        242      0.401       0.66      0.484       0.35\n",
            "\n",
            "      Epoch    GPU_mem   box_loss   cls_loss   dfl_loss  Instances       Size\n",
            "     23/100      6.54G      1.325      1.585      1.642        113        640: 100% 10/10 [00:01<00:00,  7.87it/s]\n",
            "                 Class     Images  Instances      Box(P          R      mAP50  mAP50-95): 100% 2/2 [00:00<00:00,  9.14it/s]\n",
            "                   all         37        242      0.399      0.721        0.5      0.365\n",
            "\n",
            "      Epoch    GPU_mem   box_loss   cls_loss   dfl_loss  Instances       Size\n",
            "     24/100      6.53G       1.26      1.545      1.543         90        640: 100% 10/10 [00:01<00:00,  8.15it/s]\n",
            "                 Class     Images  Instances      Box(P          R      mAP50  mAP50-95): 100% 2/2 [00:00<00:00,  8.42it/s]\n",
            "                   all         37        242      0.372      0.795      0.478      0.353\n",
            "\n",
            "      Epoch    GPU_mem   box_loss   cls_loss   dfl_loss  Instances       Size\n",
            "     25/100      6.54G       1.26      1.539       1.61         72        640: 100% 10/10 [00:01<00:00,  8.08it/s]\n",
            "                 Class     Images  Instances      Box(P          R      mAP50  mAP50-95): 100% 2/2 [00:00<00:00,  7.99it/s]\n",
            "                   all         37        242      0.439      0.665        0.5      0.365\n",
            "\n",
            "      Epoch    GPU_mem   box_loss   cls_loss   dfl_loss  Instances       Size\n",
            "     26/100      6.53G      1.216      1.543      1.567         89        640: 100% 10/10 [00:01<00:00,  8.03it/s]\n",
            "                 Class     Images  Instances      Box(P          R      mAP50  mAP50-95): 100% 2/2 [00:00<00:00,  8.72it/s]\n",
            "                   all         37        242      0.488      0.628       0.58      0.444\n",
            "\n",
            "      Epoch    GPU_mem   box_loss   cls_loss   dfl_loss  Instances       Size\n",
            "     27/100      6.54G      1.191      1.497      1.539        119        640: 100% 10/10 [00:01<00:00,  8.05it/s]\n",
            "                 Class     Images  Instances      Box(P          R      mAP50  mAP50-95): 100% 2/2 [00:00<00:00,  8.11it/s]\n",
            "                   all         37        242      0.392      0.798      0.516      0.403\n",
            "\n",
            "      Epoch    GPU_mem   box_loss   cls_loss   dfl_loss  Instances       Size\n",
            "     28/100      6.53G      1.243      1.542      1.577         77        640: 100% 10/10 [00:01<00:00,  8.02it/s]\n",
            "                 Class     Images  Instances      Box(P          R      mAP50  mAP50-95): 100% 2/2 [00:00<00:00,  9.02it/s]\n",
            "                   all         37        242      0.436      0.722      0.615      0.439\n",
            "\n",
            "      Epoch    GPU_mem   box_loss   cls_loss   dfl_loss  Instances       Size\n",
            "     29/100      6.54G      1.283      1.491      1.546         86        640: 100% 10/10 [00:01<00:00,  8.09it/s]\n",
            "                 Class     Images  Instances      Box(P          R      mAP50  mAP50-95): 100% 2/2 [00:00<00:00,  8.77it/s]\n",
            "                   all         37        242      0.414      0.841      0.553      0.393\n",
            "\n",
            "      Epoch    GPU_mem   box_loss   cls_loss   dfl_loss  Instances       Size\n",
            "     30/100      6.53G      1.152      1.449      1.468         60        640: 100% 10/10 [00:01<00:00,  7.93it/s]\n",
            "                 Class     Images  Instances      Box(P          R      mAP50  mAP50-95): 100% 2/2 [00:00<00:00,  9.11it/s]\n",
            "                   all         37        242      0.453      0.773      0.557      0.411\n",
            "\n",
            "      Epoch    GPU_mem   box_loss   cls_loss   dfl_loss  Instances       Size\n",
            "     31/100      6.54G       1.15      1.502       1.51         86        640: 100% 10/10 [00:01<00:00,  7.94it/s]\n",
            "                 Class     Images  Instances      Box(P          R      mAP50  mAP50-95): 100% 2/2 [00:00<00:00,  8.26it/s]\n",
            "                   all         37        242      0.511      0.695      0.596      0.468\n",
            "\n",
            "      Epoch    GPU_mem   box_loss   cls_loss   dfl_loss  Instances       Size\n",
            "     32/100      6.53G      1.122      1.395      1.455        114        640: 100% 10/10 [00:01<00:00,  8.05it/s]\n",
            "                 Class     Images  Instances      Box(P          R      mAP50  mAP50-95): 100% 2/2 [00:00<00:00,  8.79it/s]\n",
            "                   all         37        242      0.495      0.684       0.61      0.439\n",
            "\n",
            "      Epoch    GPU_mem   box_loss   cls_loss   dfl_loss  Instances       Size\n",
            "     33/100      6.54G      1.293      1.441      1.514         91        640: 100% 10/10 [00:01<00:00,  7.71it/s]\n",
            "                 Class     Images  Instances      Box(P          R      mAP50  mAP50-95): 100% 2/2 [00:00<00:00,  8.55it/s]\n",
            "                   all         37        242      0.552      0.764      0.673      0.519\n",
            "\n",
            "      Epoch    GPU_mem   box_loss   cls_loss   dfl_loss  Instances       Size\n",
            "     34/100      6.53G      1.132      1.389      1.449         57        640: 100% 10/10 [00:01<00:00,  8.01it/s]\n",
            "                 Class     Images  Instances      Box(P          R      mAP50  mAP50-95): 100% 2/2 [00:00<00:00,  7.91it/s]\n",
            "                   all         37        242      0.584      0.748      0.675      0.527\n",
            "\n",
            "      Epoch    GPU_mem   box_loss   cls_loss   dfl_loss  Instances       Size\n",
            "     35/100      6.54G        1.1      1.397      1.504         75        640: 100% 10/10 [00:01<00:00,  7.98it/s]\n",
            "                 Class     Images  Instances      Box(P          R      mAP50  mAP50-95): 100% 2/2 [00:00<00:00,  8.44it/s]\n",
            "                   all         37        242      0.561      0.801      0.676      0.531\n",
            "\n",
            "      Epoch    GPU_mem   box_loss   cls_loss   dfl_loss  Instances       Size\n",
            "     36/100      6.53G      1.015      1.364      1.408         89        640: 100% 10/10 [00:01<00:00,  8.11it/s]\n",
            "                 Class     Images  Instances      Box(P          R      mAP50  mAP50-95): 100% 2/2 [00:00<00:00,  9.13it/s]\n",
            "                   all         37        242      0.559      0.777      0.654      0.523\n",
            "\n",
            "      Epoch    GPU_mem   box_loss   cls_loss   dfl_loss  Instances       Size\n",
            "     37/100      6.54G     0.9916      1.292      1.343         68        640: 100% 10/10 [00:01<00:00,  8.03it/s]\n",
            "                 Class     Images  Instances      Box(P          R      mAP50  mAP50-95): 100% 2/2 [00:00<00:00,  8.29it/s]\n",
            "                   all         37        242      0.566      0.819      0.688      0.552\n",
            "\n",
            "      Epoch    GPU_mem   box_loss   cls_loss   dfl_loss  Instances       Size\n",
            "     38/100      6.53G       1.03       1.31      1.387         73        640: 100% 10/10 [00:01<00:00,  8.04it/s]\n",
            "                 Class     Images  Instances      Box(P          R      mAP50  mAP50-95): 100% 2/2 [00:00<00:00,  8.58it/s]\n",
            "                   all         37        242      0.621      0.766      0.711       0.56\n",
            "\n",
            "      Epoch    GPU_mem   box_loss   cls_loss   dfl_loss  Instances       Size\n",
            "     39/100      6.54G      1.008      1.255      1.386         63        640: 100% 10/10 [00:01<00:00,  8.08it/s]\n",
            "                 Class     Images  Instances      Box(P          R      mAP50  mAP50-95): 100% 2/2 [00:00<00:00,  8.88it/s]\n",
            "                   all         37        242      0.581      0.763      0.708      0.569\n",
            "\n",
            "      Epoch    GPU_mem   box_loss   cls_loss   dfl_loss  Instances       Size\n",
            "     40/100      6.53G      1.036      1.274      1.379         58        640: 100% 10/10 [00:01<00:00,  7.96it/s]\n",
            "                 Class     Images  Instances      Box(P          R      mAP50  mAP50-95): 100% 2/2 [00:00<00:00,  7.82it/s]\n",
            "                   all         37        242      0.588      0.807      0.736      0.594\n",
            "\n",
            "      Epoch    GPU_mem   box_loss   cls_loss   dfl_loss  Instances       Size\n",
            "     41/100      6.54G      0.968      1.254      1.323         80        640: 100% 10/10 [00:01<00:00,  7.94it/s]\n",
            "                 Class     Images  Instances      Box(P          R      mAP50  mAP50-95): 100% 2/2 [00:00<00:00,  8.84it/s]\n",
            "                   all         37        242      0.602      0.756      0.712      0.579\n",
            "\n",
            "      Epoch    GPU_mem   box_loss   cls_loss   dfl_loss  Instances       Size\n",
            "     42/100      6.53G      1.001       1.21      1.336         93        640: 100% 10/10 [00:01<00:00,  8.02it/s]\n",
            "                 Class     Images  Instances      Box(P          R      mAP50  mAP50-95): 100% 2/2 [00:00<00:00,  9.23it/s]\n",
            "                   all         37        242      0.563      0.852      0.715      0.567\n",
            "\n",
            "      Epoch    GPU_mem   box_loss   cls_loss   dfl_loss  Instances       Size\n",
            "     43/100      6.54G     0.9536      1.162      1.306         98        640: 100% 10/10 [00:01<00:00,  8.07it/s]\n",
            "                 Class     Images  Instances      Box(P          R      mAP50  mAP50-95): 100% 2/2 [00:00<00:00,  8.78it/s]\n",
            "                   all         37        242      0.614      0.867       0.77      0.637\n",
            "\n",
            "      Epoch    GPU_mem   box_loss   cls_loss   dfl_loss  Instances       Size\n",
            "     44/100      6.53G     0.9561      1.137      1.301         81        640: 100% 10/10 [00:01<00:00,  7.94it/s]\n",
            "                 Class     Images  Instances      Box(P          R      mAP50  mAP50-95): 100% 2/2 [00:00<00:00,  8.87it/s]\n",
            "                   all         37        242      0.482      0.806       0.68      0.558\n",
            "\n",
            "      Epoch    GPU_mem   box_loss   cls_loss   dfl_loss  Instances       Size\n",
            "     45/100      6.54G      0.974      1.158      1.328        112        640: 100% 10/10 [00:01<00:00,  8.01it/s]\n",
            "                 Class     Images  Instances      Box(P          R      mAP50  mAP50-95): 100% 2/2 [00:00<00:00,  8.79it/s]\n",
            "                   all         37        242      0.554      0.846      0.777      0.627\n",
            "\n",
            "      Epoch    GPU_mem   box_loss   cls_loss   dfl_loss  Instances       Size\n",
            "     46/100      6.53G      0.944      1.134      1.285         68        640: 100% 10/10 [00:01<00:00,  8.14it/s]\n",
            "                 Class     Images  Instances      Box(P          R      mAP50  mAP50-95): 100% 2/2 [00:00<00:00,  8.56it/s]\n",
            "                   all         37        242      0.694      0.852      0.817      0.675\n",
            "\n",
            "      Epoch    GPU_mem   box_loss   cls_loss   dfl_loss  Instances       Size\n",
            "     47/100      6.54G     0.9276      1.085      1.283         84        640: 100% 10/10 [00:01<00:00,  7.92it/s]\n",
            "                 Class     Images  Instances      Box(P          R      mAP50  mAP50-95): 100% 2/2 [00:00<00:00,  8.00it/s]\n",
            "                   all         37        242      0.777      0.786      0.856      0.686\n",
            "\n",
            "      Epoch    GPU_mem   box_loss   cls_loss   dfl_loss  Instances       Size\n",
            "     48/100      6.53G     0.9544      1.092      1.294         79        640: 100% 10/10 [00:01<00:00,  7.87it/s]\n",
            "                 Class     Images  Instances      Box(P          R      mAP50  mAP50-95): 100% 2/2 [00:00<00:00,  8.54it/s]\n",
            "                   all         37        242      0.746      0.766      0.842      0.689\n",
            "\n",
            "      Epoch    GPU_mem   box_loss   cls_loss   dfl_loss  Instances       Size\n",
            "     49/100      6.54G     0.9253       1.07      1.334         80        640: 100% 10/10 [00:01<00:00,  7.98it/s]\n",
            "                 Class     Images  Instances      Box(P          R      mAP50  mAP50-95): 100% 2/2 [00:00<00:00,  8.61it/s]\n",
            "                   all         37        242      0.652      0.838      0.821      0.672\n",
            "\n",
            "      Epoch    GPU_mem   box_loss   cls_loss   dfl_loss  Instances       Size\n",
            "     50/100      6.53G     0.8932      1.021      1.277         68        640: 100% 10/10 [00:01<00:00,  8.05it/s]\n",
            "                 Class     Images  Instances      Box(P          R      mAP50  mAP50-95): 100% 2/2 [00:00<00:00,  8.01it/s]\n",
            "                   all         37        242      0.847      0.789      0.875      0.731\n",
            "\n",
            "      Epoch    GPU_mem   box_loss   cls_loss   dfl_loss  Instances       Size\n",
            "     51/100      6.54G     0.8741      1.004       1.24         81        640: 100% 10/10 [00:01<00:00,  8.04it/s]\n",
            "                 Class     Images  Instances      Box(P          R      mAP50  mAP50-95): 100% 2/2 [00:00<00:00,  7.76it/s]\n",
            "                   all         37        242      0.667      0.855      0.823      0.682\n",
            "\n",
            "      Epoch    GPU_mem   box_loss   cls_loss   dfl_loss  Instances       Size\n",
            "     52/100      6.53G     0.9159     0.9849      1.287         75        640: 100% 10/10 [00:01<00:00,  8.03it/s]\n",
            "                 Class     Images  Instances      Box(P          R      mAP50  mAP50-95): 100% 2/2 [00:00<00:00,  8.99it/s]\n",
            "                   all         37        242      0.837      0.815      0.895      0.728\n",
            "\n",
            "      Epoch    GPU_mem   box_loss   cls_loss   dfl_loss  Instances       Size\n",
            "     53/100      6.54G     0.8912     0.9928       1.26         67        640: 100% 10/10 [00:01<00:00,  8.05it/s]\n",
            "                 Class     Images  Instances      Box(P          R      mAP50  mAP50-95): 100% 2/2 [00:00<00:00,  7.34it/s]\n",
            "                   all         37        242      0.883      0.821      0.894      0.732\n",
            "\n",
            "      Epoch    GPU_mem   box_loss   cls_loss   dfl_loss  Instances       Size\n",
            "     54/100      6.53G     0.9228     0.9569      1.269         90        640: 100% 10/10 [00:01<00:00,  8.08it/s]\n",
            "                 Class     Images  Instances      Box(P          R      mAP50  mAP50-95): 100% 2/2 [00:00<00:00,  8.57it/s]\n",
            "                   all         37        242      0.799      0.776      0.873      0.694\n",
            "\n",
            "      Epoch    GPU_mem   box_loss   cls_loss   dfl_loss  Instances       Size\n",
            "     55/100      6.54G     0.9191     0.9311      1.258        131        640: 100% 10/10 [00:01<00:00,  7.96it/s]\n",
            "                 Class     Images  Instances      Box(P          R      mAP50  mAP50-95): 100% 2/2 [00:00<00:00,  8.63it/s]\n",
            "                   all         37        242      0.784      0.827      0.893      0.745\n",
            "\n",
            "      Epoch    GPU_mem   box_loss   cls_loss   dfl_loss  Instances       Size\n",
            "     56/100      6.53G     0.8942     0.9095      1.233        122        640: 100% 10/10 [00:01<00:00,  8.04it/s]\n",
            "                 Class     Images  Instances      Box(P          R      mAP50  mAP50-95): 100% 2/2 [00:00<00:00,  8.28it/s]\n",
            "                   all         37        242      0.868      0.841       0.92      0.762\n",
            "\n",
            "      Epoch    GPU_mem   box_loss   cls_loss   dfl_loss  Instances       Size\n",
            "     57/100      6.54G     0.8821     0.8857      1.251         66        640: 100% 10/10 [00:01<00:00,  8.00it/s]\n",
            "                 Class     Images  Instances      Box(P          R      mAP50  mAP50-95): 100% 2/2 [00:00<00:00,  8.69it/s]\n",
            "                   all         37        242      0.894      0.861      0.924      0.779\n",
            "\n",
            "      Epoch    GPU_mem   box_loss   cls_loss   dfl_loss  Instances       Size\n",
            "     58/100      6.53G     0.8739     0.9009      1.243        112        640: 100% 10/10 [00:01<00:00,  7.96it/s]\n",
            "                 Class     Images  Instances      Box(P          R      mAP50  mAP50-95): 100% 2/2 [00:00<00:00,  8.43it/s]\n",
            "                   all         37        242      0.866       0.84      0.915      0.762\n",
            "\n",
            "      Epoch    GPU_mem   box_loss   cls_loss   dfl_loss  Instances       Size\n",
            "     59/100      6.54G     0.8593     0.8673      1.191        130        640: 100% 10/10 [00:01<00:00,  8.03it/s]\n",
            "                 Class     Images  Instances      Box(P          R      mAP50  mAP50-95): 100% 2/2 [00:00<00:00,  8.67it/s]\n",
            "                   all         37        242      0.774      0.843      0.907      0.747\n",
            "\n",
            "      Epoch    GPU_mem   box_loss   cls_loss   dfl_loss  Instances       Size\n",
            "     60/100      6.53G     0.8619     0.8779      1.225         65        640: 100% 10/10 [00:01<00:00,  7.96it/s]\n",
            "                 Class     Images  Instances      Box(P          R      mAP50  mAP50-95): 100% 2/2 [00:00<00:00,  7.97it/s]\n",
            "                   all         37        242      0.822      0.833      0.922      0.757\n",
            "\n",
            "      Epoch    GPU_mem   box_loss   cls_loss   dfl_loss  Instances       Size\n",
            "     61/100      6.54G     0.8954     0.8857      1.233        105        640: 100% 10/10 [00:01<00:00,  8.02it/s]\n",
            "                 Class     Images  Instances      Box(P          R      mAP50  mAP50-95): 100% 2/2 [00:00<00:00,  8.58it/s]\n",
            "                   all         37        242      0.808      0.866      0.911      0.766\n",
            "\n",
            "      Epoch    GPU_mem   box_loss   cls_loss   dfl_loss  Instances       Size\n",
            "     62/100      6.53G      0.865     0.8619      1.194         76        640: 100% 10/10 [00:01<00:00,  7.76it/s]\n",
            "                 Class     Images  Instances      Box(P          R      mAP50  mAP50-95): 100% 2/2 [00:00<00:00,  8.86it/s]\n",
            "                   all         37        242       0.84      0.827      0.914      0.763\n",
            "\n",
            "      Epoch    GPU_mem   box_loss   cls_loss   dfl_loss  Instances       Size\n",
            "     63/100      6.54G     0.8435     0.8666      1.234         56        640: 100% 10/10 [00:01<00:00,  8.05it/s]\n",
            "                 Class     Images  Instances      Box(P          R      mAP50  mAP50-95): 100% 2/2 [00:00<00:00,  8.86it/s]\n",
            "                   all         37        242      0.862      0.871      0.935      0.774\n",
            "\n",
            "      Epoch    GPU_mem   box_loss   cls_loss   dfl_loss  Instances       Size\n",
            "     64/100      6.53G     0.8574     0.8691      1.179        101        640: 100% 10/10 [00:01<00:00,  8.05it/s]\n",
            "                 Class     Images  Instances      Box(P          R      mAP50  mAP50-95): 100% 2/2 [00:00<00:00,  9.25it/s]\n",
            "                   all         37        242      0.836      0.879      0.931      0.783\n",
            "\n",
            "      Epoch    GPU_mem   box_loss   cls_loss   dfl_loss  Instances       Size\n",
            "     65/100      6.54G     0.8147     0.8434      1.182        105        640: 100% 10/10 [00:01<00:00,  8.05it/s]\n",
            "                 Class     Images  Instances      Box(P          R      mAP50  mAP50-95): 100% 2/2 [00:00<00:00,  8.36it/s]\n",
            "                   all         37        242      0.863      0.823       0.93      0.779\n",
            "\n",
            "      Epoch    GPU_mem   box_loss   cls_loss   dfl_loss  Instances       Size\n",
            "     66/100      6.53G     0.8557     0.8742      1.259         64        640: 100% 10/10 [00:01<00:00,  8.05it/s]\n",
            "                 Class     Images  Instances      Box(P          R      mAP50  mAP50-95): 100% 2/2 [00:00<00:00,  8.92it/s]\n",
            "                   all         37        242      0.781      0.903      0.919      0.772\n",
            "\n",
            "      Epoch    GPU_mem   box_loss   cls_loss   dfl_loss  Instances       Size\n",
            "     67/100      6.54G     0.8673     0.8693      1.191         88        640: 100% 10/10 [00:01<00:00,  8.07it/s]\n",
            "                 Class     Images  Instances      Box(P          R      mAP50  mAP50-95): 100% 2/2 [00:00<00:00,  9.06it/s]\n",
            "                   all         37        242      0.687      0.883      0.864      0.733\n",
            "\n",
            "      Epoch    GPU_mem   box_loss   cls_loss   dfl_loss  Instances       Size\n",
            "     68/100      6.53G     0.8325     0.8709      1.186         76        640: 100% 10/10 [00:01<00:00,  7.89it/s]\n",
            "                 Class     Images  Instances      Box(P          R      mAP50  mAP50-95): 100% 2/2 [00:00<00:00,  8.34it/s]\n",
            "                   all         37        242      0.851      0.851      0.922      0.772\n",
            "\n",
            "      Epoch    GPU_mem   box_loss   cls_loss   dfl_loss  Instances       Size\n",
            "     69/100      6.54G     0.8306     0.8769        1.2         85        640: 100% 10/10 [00:01<00:00,  8.06it/s]\n",
            "                 Class     Images  Instances      Box(P          R      mAP50  mAP50-95): 100% 2/2 [00:00<00:00,  9.21it/s]\n",
            "                   all         37        242      0.832      0.868      0.935      0.795\n",
            "\n",
            "      Epoch    GPU_mem   box_loss   cls_loss   dfl_loss  Instances       Size\n",
            "     70/100      6.53G     0.8187     0.8437      1.198        100        640: 100% 10/10 [00:01<00:00,  8.09it/s]\n",
            "                 Class     Images  Instances      Box(P          R      mAP50  mAP50-95): 100% 2/2 [00:00<00:00,  8.73it/s]\n",
            "                   all         37        242      0.837      0.897      0.934      0.793\n",
            "\n",
            "      Epoch    GPU_mem   box_loss   cls_loss   dfl_loss  Instances       Size\n",
            "     71/100      6.54G     0.7664      0.789      1.161         92        640: 100% 10/10 [00:01<00:00,  8.01it/s]\n",
            "                 Class     Images  Instances      Box(P          R      mAP50  mAP50-95): 100% 2/2 [00:00<00:00,  9.37it/s]\n",
            "                   all         37        242       0.91      0.845      0.944      0.817\n",
            "\n",
            "      Epoch    GPU_mem   box_loss   cls_loss   dfl_loss  Instances       Size\n",
            "     72/100      6.53G     0.7621     0.7401      1.162        107        640: 100% 10/10 [00:01<00:00,  8.01it/s]\n",
            "                 Class     Images  Instances      Box(P          R      mAP50  mAP50-95): 100% 2/2 [00:00<00:00,  8.88it/s]\n",
            "                   all         37        242      0.902       0.87      0.947      0.814\n",
            "\n",
            "      Epoch    GPU_mem   box_loss   cls_loss   dfl_loss  Instances       Size\n",
            "     73/100      6.54G     0.7712     0.7751      1.165         92        640: 100% 10/10 [00:01<00:00,  8.10it/s]\n",
            "                 Class     Images  Instances      Box(P          R      mAP50  mAP50-95): 100% 2/2 [00:00<00:00,  8.53it/s]\n",
            "                   all         37        242      0.901      0.831      0.942      0.815\n",
            "\n",
            "      Epoch    GPU_mem   box_loss   cls_loss   dfl_loss  Instances       Size\n",
            "     74/100      6.53G      0.777       0.75      1.176        108        640: 100% 10/10 [00:01<00:00,  7.98it/s]\n",
            "                 Class     Images  Instances      Box(P          R      mAP50  mAP50-95): 100% 2/2 [00:00<00:00,  8.58it/s]\n",
            "                   all         37        242      0.929      0.879      0.957      0.825\n",
            "\n",
            "      Epoch    GPU_mem   box_loss   cls_loss   dfl_loss  Instances       Size\n",
            "     75/100      6.54G     0.7952     0.7592      1.176         79        640: 100% 10/10 [00:01<00:00,  8.01it/s]\n",
            "                 Class     Images  Instances      Box(P          R      mAP50  mAP50-95): 100% 2/2 [00:00<00:00,  9.21it/s]\n",
            "                   all         37        242      0.868      0.864      0.944      0.803\n",
            "\n",
            "      Epoch    GPU_mem   box_loss   cls_loss   dfl_loss  Instances       Size\n",
            "     76/100      6.53G     0.7759      0.729      1.174         56        640: 100% 10/10 [00:01<00:00,  8.02it/s]\n",
            "                 Class     Images  Instances      Box(P          R      mAP50  mAP50-95): 100% 2/2 [00:00<00:00,  8.83it/s]\n",
            "                   all         37        242      0.842      0.911      0.949      0.816\n",
            "\n",
            "      Epoch    GPU_mem   box_loss   cls_loss   dfl_loss  Instances       Size\n",
            "     77/100      6.54G     0.7748     0.7464      1.137         98        640: 100% 10/10 [00:01<00:00,  7.99it/s]\n",
            "                 Class     Images  Instances      Box(P          R      mAP50  mAP50-95): 100% 2/2 [00:00<00:00,  8.84it/s]\n",
            "                   all         37        242      0.893      0.885       0.95      0.808\n",
            "\n",
            "      Epoch    GPU_mem   box_loss   cls_loss   dfl_loss  Instances       Size\n",
            "     78/100      6.53G     0.7857     0.7508      1.174        110        640: 100% 10/10 [00:01<00:00,  8.06it/s]\n",
            "                 Class     Images  Instances      Box(P          R      mAP50  mAP50-95): 100% 2/2 [00:00<00:00,  9.23it/s]\n",
            "                   all         37        242      0.937      0.881      0.955      0.811\n",
            "\n",
            "      Epoch    GPU_mem   box_loss   cls_loss   dfl_loss  Instances       Size\n",
            "     79/100      6.54G     0.7898     0.7349      1.148         95        640: 100% 10/10 [00:01<00:00,  8.06it/s]\n",
            "                 Class     Images  Instances      Box(P          R      mAP50  mAP50-95): 100% 2/2 [00:00<00:00,  8.38it/s]\n",
            "                   all         37        242       0.92       0.89      0.962      0.798\n",
            "\n",
            "      Epoch    GPU_mem   box_loss   cls_loss   dfl_loss  Instances       Size\n",
            "     80/100      6.53G     0.7993      0.731      1.194         86        640: 100% 10/10 [00:01<00:00,  8.03it/s]\n",
            "                 Class     Images  Instances      Box(P          R      mAP50  mAP50-95): 100% 2/2 [00:00<00:00,  8.23it/s]\n",
            "                   all         37        242      0.892      0.923      0.964      0.827\n",
            "\n",
            "      Epoch    GPU_mem   box_loss   cls_loss   dfl_loss  Instances       Size\n",
            "     81/100      6.54G     0.7825     0.7082      1.146         92        640: 100% 10/10 [00:01<00:00,  8.03it/s]\n",
            "                 Class     Images  Instances      Box(P          R      mAP50  mAP50-95): 100% 2/2 [00:00<00:00,  9.12it/s]\n",
            "                   all         37        242      0.938      0.864      0.955      0.805\n",
            "\n",
            "      Epoch    GPU_mem   box_loss   cls_loss   dfl_loss  Instances       Size\n",
            "     82/100      6.53G     0.7728     0.6957       1.12         74        640: 100% 10/10 [00:01<00:00,  8.01it/s]\n",
            "                 Class     Images  Instances      Box(P          R      mAP50  mAP50-95): 100% 2/2 [00:00<00:00,  8.89it/s]\n",
            "                   all         37        242      0.938      0.881      0.962      0.823\n",
            "\n",
            "      Epoch    GPU_mem   box_loss   cls_loss   dfl_loss  Instances       Size\n",
            "     83/100      6.54G     0.7685     0.6961      1.179        109        640: 100% 10/10 [00:01<00:00,  7.94it/s]\n",
            "                 Class     Images  Instances      Box(P          R      mAP50  mAP50-95): 100% 2/2 [00:00<00:00,  8.56it/s]\n",
            "                   all         37        242      0.953      0.898      0.967       0.84\n",
            "\n",
            "      Epoch    GPU_mem   box_loss   cls_loss   dfl_loss  Instances       Size\n",
            "     84/100      6.53G     0.7311     0.6787      1.133         94        640: 100% 10/10 [00:01<00:00,  8.00it/s]\n",
            "                 Class     Images  Instances      Box(P          R      mAP50  mAP50-95): 100% 2/2 [00:00<00:00,  9.18it/s]\n",
            "                   all         37        242      0.908      0.868      0.959       0.83\n",
            "\n",
            "      Epoch    GPU_mem   box_loss   cls_loss   dfl_loss  Instances       Size\n",
            "     85/100      6.54G     0.7686      0.703      1.169         64        640: 100% 10/10 [00:01<00:00,  8.07it/s]\n",
            "                 Class     Images  Instances      Box(P          R      mAP50  mAP50-95): 100% 2/2 [00:00<00:00,  8.98it/s]\n",
            "                   all         37        242      0.919      0.922      0.966      0.837\n",
            "\n",
            "      Epoch    GPU_mem   box_loss   cls_loss   dfl_loss  Instances       Size\n",
            "     86/100      6.53G     0.7247     0.6729      1.106         96        640: 100% 10/10 [00:01<00:00,  7.99it/s]\n",
            "                 Class     Images  Instances      Box(P          R      mAP50  mAP50-95): 100% 2/2 [00:00<00:00,  9.15it/s]\n",
            "                   all         37        242       0.93      0.899      0.963       0.84\n",
            "\n",
            "      Epoch    GPU_mem   box_loss   cls_loss   dfl_loss  Instances       Size\n",
            "     87/100      6.54G     0.7272     0.6818      1.133         87        640: 100% 10/10 [00:01<00:00,  7.91it/s]\n",
            "                 Class     Images  Instances      Box(P          R      mAP50  mAP50-95): 100% 2/2 [00:00<00:00,  8.32it/s]\n",
            "                   all         37        242      0.903      0.873      0.955      0.835\n",
            "\n",
            "      Epoch    GPU_mem   box_loss   cls_loss   dfl_loss  Instances       Size\n",
            "     88/100      6.53G     0.7154     0.6624       1.12         84        640: 100% 10/10 [00:01<00:00,  7.99it/s]\n",
            "                 Class     Images  Instances      Box(P          R      mAP50  mAP50-95): 100% 2/2 [00:00<00:00,  8.45it/s]\n",
            "                   all         37        242      0.935      0.921      0.969       0.84\n",
            "\n",
            "      Epoch    GPU_mem   box_loss   cls_loss   dfl_loss  Instances       Size\n",
            "     89/100      6.54G     0.7338     0.6941      1.125        108        640: 100% 10/10 [00:01<00:00,  8.04it/s]\n",
            "                 Class     Images  Instances      Box(P          R      mAP50  mAP50-95): 100% 2/2 [00:00<00:00,  8.06it/s]\n",
            "                   all         37        242      0.923      0.919      0.967      0.844\n",
            "\n",
            "      Epoch    GPU_mem   box_loss   cls_loss   dfl_loss  Instances       Size\n",
            "     90/100      6.53G     0.7105     0.6595      1.128         90        640: 100% 10/10 [00:01<00:00,  7.95it/s]\n",
            "                 Class     Images  Instances      Box(P          R      mAP50  mAP50-95): 100% 2/2 [00:00<00:00,  7.96it/s]\n",
            "                   all         37        242      0.945      0.917       0.97      0.847\n",
            "Closing dataloader mosaic\n",
            "\u001b[34m\u001b[1malbumentations: \u001b[0mBlur(p=0.01, blur_limit=(3, 7)), MedianBlur(p=0.01, blur_limit=(3, 7)), ToGray(p=0.01, num_output_channels=3, method='weighted_average'), CLAHE(p=0.01, clip_limit=(1, 4.0), tile_grid_size=(8, 8))\n",
            "\n",
            "      Epoch    GPU_mem   box_loss   cls_loss   dfl_loss  Instances       Size\n",
            "     91/100      6.54G     0.6435     0.5493      1.097         59        640: 100% 10/10 [00:01<00:00,  5.04it/s]\n",
            "                 Class     Images  Instances      Box(P          R      mAP50  mAP50-95): 100% 2/2 [00:00<00:00,  8.77it/s]\n",
            "                   all         37        242      0.944      0.904      0.969      0.846\n",
            "\n",
            "      Epoch    GPU_mem   box_loss   cls_loss   dfl_loss  Instances       Size\n",
            "     92/100      6.53G      0.623     0.5304      1.089         55        640: 100% 10/10 [00:01<00:00,  8.02it/s]\n",
            "                 Class     Images  Instances      Box(P          R      mAP50  mAP50-95): 100% 2/2 [00:00<00:00,  8.27it/s]\n",
            "                   all         37        242      0.917      0.913      0.969      0.845\n",
            "\n",
            "      Epoch    GPU_mem   box_loss   cls_loss   dfl_loss  Instances       Size\n",
            "     93/100      6.54G      0.617     0.5295      1.104         62        640: 100% 10/10 [00:01<00:00,  8.02it/s]\n",
            "                 Class     Images  Instances      Box(P          R      mAP50  mAP50-95): 100% 2/2 [00:00<00:00,  8.09it/s]\n",
            "                   all         37        242      0.917      0.932       0.97      0.852\n",
            "\n",
            "      Epoch    GPU_mem   box_loss   cls_loss   dfl_loss  Instances       Size\n",
            "     94/100      6.53G     0.6067     0.4949      1.072         53        640: 100% 10/10 [00:01<00:00,  7.88it/s]\n",
            "                 Class     Images  Instances      Box(P          R      mAP50  mAP50-95): 100% 2/2 [00:00<00:00,  8.11it/s]\n",
            "                   all         37        242      0.933      0.908       0.97      0.855\n",
            "\n",
            "      Epoch    GPU_mem   box_loss   cls_loss   dfl_loss  Instances       Size\n",
            "     95/100      6.54G     0.6175     0.5205      1.096         65        640: 100% 10/10 [00:01<00:00,  7.98it/s]\n",
            "                 Class     Images  Instances      Box(P          R      mAP50  mAP50-95): 100% 2/2 [00:00<00:00,  8.90it/s]\n",
            "                   all         37        242      0.941      0.896       0.97      0.853\n",
            "\n",
            "      Epoch    GPU_mem   box_loss   cls_loss   dfl_loss  Instances       Size\n",
            "     96/100      6.53G      0.604     0.5079      1.094         61        640: 100% 10/10 [00:01<00:00,  8.07it/s]\n",
            "                 Class     Images  Instances      Box(P          R      mAP50  mAP50-95): 100% 2/2 [00:00<00:00,  7.90it/s]\n",
            "                   all         37        242      0.936      0.911      0.972      0.849\n",
            "\n",
            "      Epoch    GPU_mem   box_loss   cls_loss   dfl_loss  Instances       Size\n",
            "     97/100      6.54G     0.6235     0.5176       1.07         72        640: 100% 10/10 [00:01<00:00,  8.06it/s]\n",
            "                 Class     Images  Instances      Box(P          R      mAP50  mAP50-95): 100% 2/2 [00:00<00:00,  8.16it/s]\n",
            "                   all         37        242      0.932      0.933      0.975      0.854\n",
            "\n",
            "      Epoch    GPU_mem   box_loss   cls_loss   dfl_loss  Instances       Size\n",
            "     98/100      6.53G     0.6147     0.5204      1.078         52        640: 100% 10/10 [00:01<00:00,  8.07it/s]\n",
            "                 Class     Images  Instances      Box(P          R      mAP50  mAP50-95): 100% 2/2 [00:00<00:00,  8.62it/s]\n",
            "                   all         37        242      0.921      0.946      0.976      0.858\n",
            "\n",
            "      Epoch    GPU_mem   box_loss   cls_loss   dfl_loss  Instances       Size\n",
            "     99/100      6.54G     0.6132     0.5095      1.113         53        640: 100% 10/10 [00:01<00:00,  8.11it/s]\n",
            "                 Class     Images  Instances      Box(P          R      mAP50  mAP50-95): 100% 2/2 [00:00<00:00,  8.31it/s]\n",
            "                   all         37        242      0.921      0.947      0.976      0.857\n",
            "\n",
            "      Epoch    GPU_mem   box_loss   cls_loss   dfl_loss  Instances       Size\n",
            "    100/100      6.53G     0.5959     0.4721      1.076         59        640: 100% 10/10 [00:01<00:00,  7.91it/s]\n",
            "                 Class     Images  Instances      Box(P          R      mAP50  mAP50-95): 100% 2/2 [00:00<00:00,  7.90it/s]\n",
            "                   all         37        242      0.909       0.96      0.976      0.857\n",
            "\n",
            "100 epochs completed in 0.060 hours.\n",
            "Optimizer stripped from runs/detect/Modified_Model_Output/weights/last.pt, 12.0MB\n",
            "Optimizer stripped from runs/detect/Modified_Model_Output/weights/best.pt, 12.0MB\n",
            "\n",
            "Validating runs/detect/Modified_Model_Output/weights/best.pt...\n",
            "WARNING ⚠️ validating an untrained model YAML will result in 0 mAP.\n",
            "Ultralytics 8.3.18 🚀 Python-3.10.12 torch-2.4.1+cu121 CUDA:0 (NVIDIA A100-SXM4-40GB, 40514MiB)\n",
            "Modify_YOLOv8 summary (fused): 135 layers, 5,875,763 parameters, 0 gradients, 63.3 GFLOPs\n",
            "                 Class     Images  Instances      Box(P          R      mAP50  mAP50-95): 100% 2/2 [00:00<00:00,  6.24it/s]\n",
            "                   all         37        242      0.921      0.946      0.976      0.858\n",
            "                  cube         35         84      0.906      0.913      0.971      0.849\n",
            "                sphere         32         74          1      0.995      0.995      0.885\n",
            "              cylinder         34         84      0.857      0.931      0.962      0.839\n",
            "Speed: 0.1ms preprocess, 2.0ms inference, 0.0ms loss, 1.7ms postprocess per image\n",
            "Results saved to \u001b[1mruns/detect/Modified_Model_Output\u001b[0m\n",
            "\u001b[34m\u001b[1mwandb\u001b[0m:                                                                                \n",
            "\u001b[34m\u001b[1mwandb\u001b[0m: \n",
            "\u001b[34m\u001b[1mwandb\u001b[0m: Run history:\n",
            "\u001b[34m\u001b[1mwandb\u001b[0m:                  lr/pg0 ▂▄▅▇▇███▇▇▇▇▇▆▆▆▆▆▆▅▅▅▅▅▅▄▄▄▄▄▃▃▃▃▃▂▂▂▂▁\n",
            "\u001b[34m\u001b[1mwandb\u001b[0m:                  lr/pg1 ▁▄▅▅▆██▇▇▇▇▆▆▆▆▆▆▅▅▅▅▅▅▄▄▄▄▄▃▃▃▃▃▂▂▂▂▁▁▁\n",
            "\u001b[34m\u001b[1mwandb\u001b[0m:                  lr/pg2 ▂▂▅▇███▇▇▇▇▇▆▆▆▆▅▅▄▄▄▄▄▄▄▃▃▃▃▃▂▂▂▂▂▂▁▁▁▁\n",
            "\u001b[34m\u001b[1mwandb\u001b[0m:        metrics/mAP50(B) ▁▁▄▄▄▅▅▅▅▅▆▆▆▆▆▇▇▇▇▇████▇███████████████\n",
            "\u001b[34m\u001b[1mwandb\u001b[0m:     metrics/mAP50-95(B) ▁▁▁▁▁▂▂▃▄▄▄▅▄▅▅▆▆▇▆▇▇▇▇▇▇▇▇█████████████\n",
            "\u001b[34m\u001b[1mwandb\u001b[0m:    metrics/precision(B) ▁▁▁▁▁▄▃▃▃▄▅▄▄▅▅▅▆▇█▇▇▇▇▇▇▇▇██▇██████████\n",
            "\u001b[34m\u001b[1mwandb\u001b[0m:       metrics/recall(B) ▁▁▁▁▁▅▆▆▇▇▇▇▇▆▇▇▇▇▇▇▇▇▇▇▇█▇▇██████▇█████\n",
            "\u001b[34m\u001b[1mwandb\u001b[0m:            model/GFLOPs ▁\n",
            "\u001b[34m\u001b[1mwandb\u001b[0m:        model/parameters ▁\n",
            "\u001b[34m\u001b[1mwandb\u001b[0m: model/speed_PyTorch(ms) ▁\n",
            "\u001b[34m\u001b[1mwandb\u001b[0m:          train/box_loss █▇▆▅▅▃▃▃▃▃▂▂▃▂▂▂▂▂▂▂▂▂▂▂▂▂▁▁▁▁▁▁▁▁▁▁▁▁▁▁\n",
            "\u001b[34m\u001b[1mwandb\u001b[0m:          train/cls_loss █▇▇▇▆▆▅▅▅▅▅▅▄▄▄▃▄▃▃▃▃▃▃▃▃▃▂▂▂▂▂▂▂▂▂▁▁▁▁▁\n",
            "\u001b[34m\u001b[1mwandb\u001b[0m:          train/dfl_loss █▇▆▅▄▃▃▃▃▃▂▂▂▂▂▂▂▂▂▂▂▁▁▁▁▁▁▁▁▁▁▁▁▁▁▁▁▁▁▁\n",
            "\u001b[34m\u001b[1mwandb\u001b[0m:            val/box_loss ███▄▃▂▂▂▂▂▂▂▂▂▂▂▂▂▁▁▁▁▁▁▁▁▁▁▁▁▁▁▁▁▁▁▁▁▁▁\n",
            "\u001b[34m\u001b[1mwandb\u001b[0m:            val/cls_loss █████▄▃▃▃▃▂▂▂▂▂▂▂▂▂▂▂▁▁▂▁▁▁▁▁▁▁▁▁▁▁▁▁▁▁▁\n",
            "\u001b[34m\u001b[1mwandb\u001b[0m:            val/dfl_loss ████▇▃▃▃▂▂▂▂▂▂▂▂▂▂▂▂▁▁▁▁▁▁▁▁▁▁▁▁▁▁▁▁▁▁▁▁\n",
            "\u001b[34m\u001b[1mwandb\u001b[0m: \n",
            "\u001b[34m\u001b[1mwandb\u001b[0m: Run summary:\n",
            "\u001b[34m\u001b[1mwandb\u001b[0m:                  lr/pg0 3e-05\n",
            "\u001b[34m\u001b[1mwandb\u001b[0m:                  lr/pg1 3e-05\n",
            "\u001b[34m\u001b[1mwandb\u001b[0m:                  lr/pg2 3e-05\n",
            "\u001b[34m\u001b[1mwandb\u001b[0m:        metrics/mAP50(B) 0.97595\n",
            "\u001b[34m\u001b[1mwandb\u001b[0m:     metrics/mAP50-95(B) 0.85754\n",
            "\u001b[34m\u001b[1mwandb\u001b[0m:    metrics/precision(B) 0.92099\n",
            "\u001b[34m\u001b[1mwandb\u001b[0m:       metrics/recall(B) 0.94633\n",
            "\u001b[34m\u001b[1mwandb\u001b[0m:            model/GFLOPs 63.806\n",
            "\u001b[34m\u001b[1mwandb\u001b[0m:        model/parameters 5882219\n",
            "\u001b[34m\u001b[1mwandb\u001b[0m: model/speed_PyTorch(ms) 4.917\n",
            "\u001b[34m\u001b[1mwandb\u001b[0m:          train/box_loss 0.59593\n",
            "\u001b[34m\u001b[1mwandb\u001b[0m:          train/cls_loss 0.47206\n",
            "\u001b[34m\u001b[1mwandb\u001b[0m:          train/dfl_loss 1.07633\n",
            "\u001b[34m\u001b[1mwandb\u001b[0m:            val/box_loss 0.58685\n",
            "\u001b[34m\u001b[1mwandb\u001b[0m:            val/cls_loss 0.47349\n",
            "\u001b[34m\u001b[1mwandb\u001b[0m:            val/dfl_loss 1.06895\n",
            "\u001b[34m\u001b[1mwandb\u001b[0m: \n",
            "\u001b[34m\u001b[1mwandb\u001b[0m: 🚀 View run \u001b[33mModified_Model_Output\u001b[0m at: \u001b[34m\u001b[4mhttps://wandb.ai/eng-hossein-hashemi-sapienza-universit-di-roma/Ultralytics/runs/h245x5jw\u001b[0m\n",
            "\u001b[34m\u001b[1mwandb\u001b[0m: ⭐️ View project at: \u001b[34m\u001b[4mhttps://wandb.ai/eng-hossein-hashemi-sapienza-universit-di-roma/Ultralytics\u001b[0m\n",
            "\u001b[34m\u001b[1mwandb\u001b[0m: Synced 5 W&B file(s), 0 media file(s), 10 artifact file(s) and 22 other file(s)\n",
            "\u001b[34m\u001b[1mwandb\u001b[0m: Find logs at: \u001b[35m\u001b[1m./wandb/run-20241021_011825-h245x5jw/logs\u001b[0m\n",
            "💡 Learn more at https://docs.ultralytics.com/modes/train\n"
          ]
        }
      ],
      "source": [
        "# Training a Modified Model\n",
        "!yolo detect train model=Modify_YOLOv8.yaml data=data/CLEVR.yaml workers=2 batch=12 device=0 epochs=100 patience=50 name=Modified_Model_Output"
      ]
    },
    {
      "cell_type": "markdown",
      "metadata": {
        "id": "JXd72g821Qaq"
      },
      "source": [
        "### Speed"
      ]
    },
    {
      "cell_type": "markdown",
      "metadata": {
        "id": "zEZ2OTNNPFFE"
      },
      "source": [
        "Download the image"
      ]
    },
    {
      "cell_type": "code",
      "execution_count": 27,
      "metadata": {
        "id": "t2cJRxRDO88B",
        "colab": {
          "base_uri": "https://localhost:8080/"
        },
        "outputId": "aec1c102-c328-4c88-9246-d1e5b4db8d2d"
      },
      "outputs": [
        {
          "output_type": "stream",
          "name": "stdout",
          "text": [
            "Downloading...\n",
            "From: https://drive.google.com/uc?id=1kLCXDi8FJm1sIXOihvyz9Mx2ILsXOs1t\n",
            "To: /content/gdrive/MyDrive/YOLOv8_Optimization/CLEVR_Test.jpg\n",
            "\r  0% 0.00/16.6k [00:00<?, ?B/s]\r100% 16.6k/16.6k [00:00<00:00, 54.9MB/s]\n"
          ]
        }
      ],
      "source": [
        "# Download the test image\n",
        "!gdown https://drive.google.com/uc?id=1kLCXDi8FJm1sIXOihvyz9Mx2ILsXOs1t"
      ]
    },
    {
      "cell_type": "code",
      "source": [
        "# Create data root folder\n",
        "!mkdir inference"
      ],
      "metadata": {
        "id": "kqv2Q_vAiSoh"
      },
      "execution_count": 28,
      "outputs": []
    },
    {
      "cell_type": "code",
      "execution_count": 37,
      "metadata": {
        "id": "tZa-Vq0b73py"
      },
      "outputs": [],
      "source": [
        "# Move the image to inference folder\n",
        "!mv CLEVR_Test.jpg inference"
      ]
    },
    {
      "cell_type": "markdown",
      "metadata": {
        "id": "n45JXXPOPH70"
      },
      "source": [
        "Inference"
      ]
    },
    {
      "cell_type": "code",
      "execution_count": 38,
      "metadata": {
        "id": "0qgwXL69PfLu",
        "colab": {
          "base_uri": "https://localhost:8080/"
        },
        "outputId": "8532a4ad-5cf6-4fdf-8ca0-4d98a6b21c58"
      },
      "outputs": [
        {
          "output_type": "stream",
          "name": "stdout",
          "text": [
            "Ultralytics 8.3.18 🚀 Python-3.10.12 torch-2.4.1+cu121 CUDA:0 (NVIDIA A100-SXM4-40GB, 40514MiB)\n",
            "YOLOv8l summary (fused): 268 layers, 43,608,921 parameters, 0 gradients, 164.8 GFLOPs\n",
            "\n",
            "image 1/1 /content/gdrive/MyDrive/YOLOv8_Optimization/inference/CLEVR_Test.jpg: 640x640 4 cubes, 4 spheres, 4 cylinders, 13.6ms\n",
            "Speed: 6.3ms preprocess, 13.6ms inference, 564.1ms postprocess per image at shape (1, 3, 640, 640)\n",
            "Results saved to \u001b[1mruns/detect/predict\u001b[0m\n",
            "💡 Learn more at https://docs.ultralytics.com/modes/predict\n"
          ]
        }
      ],
      "source": [
        "# Original YOLOv8 model\n",
        "!yolo detect predict model=runs/detect/Orginal_Model_Output/weights/best.pt source=inference/CLEVR_Test.jpg save=True"
      ]
    },
    {
      "cell_type": "code",
      "source": [
        "# Original YOLOv8 MODIFY\n",
        "!yolo detect predict model=runs/detect/Modified_Model_Output/weights/best.pt source=inference/CLEVR_Test.jpg save=True"
      ],
      "metadata": {
        "id": "PFOWmJP4ixkA",
        "colab": {
          "base_uri": "https://localhost:8080/"
        },
        "outputId": "85d12d9c-2267-4036-df9c-45361fd1e993"
      },
      "execution_count": 39,
      "outputs": [
        {
          "output_type": "stream",
          "name": "stdout",
          "text": [
            "Ultralytics 8.3.18 🚀 Python-3.10.12 torch-2.4.1+cu121 CUDA:0 (NVIDIA A100-SXM4-40GB, 40514MiB)\n",
            "Modify_YOLOv8 summary (fused): 135 layers, 5,875,763 parameters, 0 gradients, 63.3 GFLOPs\n",
            "\n",
            "image 1/1 /content/gdrive/MyDrive/YOLOv8_Optimization/inference/CLEVR_Test.jpg: 640x640 2 cubes, 4 spheres, 4 cylinders, 7.5ms\n",
            "Speed: 6.1ms preprocess, 7.5ms inference, 553.5ms postprocess per image at shape (1, 3, 640, 640)\n",
            "Results saved to \u001b[1mruns/detect/predict2\u001b[0m\n",
            "💡 Learn more at https://docs.ultralytics.com/modes/predict\n"
          ]
        }
      ]
    },
    {
      "cell_type": "markdown",
      "metadata": {
        "id": "XX-xF5dT_dJT"
      },
      "source": [
        "Show detection result"
      ]
    },
    {
      "cell_type": "code",
      "execution_count": 40,
      "metadata": {
        "id": "J4wIH83p_e_d"
      },
      "outputs": [],
      "source": [
        "import matplotlib.pyplot as plt\n",
        "import matplotlib.image as mpimg\n",
        "\n",
        "def show_image(image_path):\n",
        "  img = mpimg.imread(image_path)\n",
        "  plt.imshow(img)\n",
        "  plt.axis('off')\n",
        "  plt.show()"
      ]
    },
    {
      "cell_type": "code",
      "source": [
        "!ls"
      ],
      "metadata": {
        "colab": {
          "base_uri": "https://localhost:8080/"
        },
        "id": "5rnxINAKrgq1",
        "outputId": "81130730-5896-412b-eb39-5dbc6196c0bb"
      },
      "execution_count": 41,
      "outputs": [
        {
          "output_type": "stream",
          "name": "stdout",
          "text": [
            "data  inference  Modify_YOLOv8.yaml  runs  wandb  yolo11n.pt  yolov8l.yaml  yolov8.yaml\n"
          ]
        }
      ]
    },
    {
      "cell_type": "code",
      "execution_count": 43,
      "metadata": {
        "id": "sSSdW3Hj_fgY",
        "colab": {
          "base_uri": "https://localhost:8080/",
          "height": 406
        },
        "outputId": "d2213468-c151-492c-9cd0-9d06154174de"
      },
      "outputs": [
        {
          "output_type": "display_data",
          "data": {
            "text/plain": [
              "<Figure size 640x480 with 1 Axes>"
            ],
            "image/png": "[encoded data removed]"
          },
          "metadata": {}
        }
      ],
      "source": [
        "# Original YOLOv8 model\n",
        "show_image(\"runs/detect/predict/CLEVR_Test.jpg\")"
      ]
    },
    {
      "cell_type": "code",
      "execution_count": 44,
      "metadata": {
        "id": "rjNTjmlg_iHx",
        "colab": {
          "base_uri": "https://localhost:8080/",
          "height": 406
        },
        "outputId": "c1c92b72-900f-4f7a-997b-9356d87d6d18"
      },
      "outputs": [
        {
          "output_type": "display_data",
          "data": {
            "text/plain": [
              "<Figure size 640x480 with 1 Axes>"
            ],
            "image/png": "[encoded data removed]"
          },
          "metadata": {}
        }
      ],
      "source": [
        "# Modified YOLOv8 MODIFY\n",
        "show_image(\"runs/detect/predict2/CLEVR_Test.jpg\")"
      ]
    }
  ],
  "metadata": {
    "colab": {
      "provenance": [],
      "machine_shape": "hm",
      "gpuType": "A100",
      "include_colab_link": true
    },
    "kernelspec": {
      "display_name": "Python 3",
      "name": "python3"
    },
    "language_info": {
      "name": "python"
    },
    "accelerator": "GPU"
  },
  "nbformat": 4,
  "nbformat_minor": 0
}